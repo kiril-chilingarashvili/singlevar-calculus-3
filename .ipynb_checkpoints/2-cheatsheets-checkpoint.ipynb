{
 "cells": [
  {
   "cell_type": "markdown",
   "id": "84574f0b-e142-4cbd-a019-1a0acd9030f3",
   "metadata": {},
   "source": [
    "# Unit 2: Understanding Infinity"
   ]
  },
  {
   "cell_type": "markdown",
   "id": "709a222f-7900-4e8c-b4fa-e79786b01378",
   "metadata": {},
   "source": [
    "## l'Hôpital's Rule\n",
    "\n",
    "### ***L'Hôpital's Rule Version 1: Indeterminate form $\\frac{0}{0}$***\n",
    "### If\n",
    "## $$ \\begin{array} {rcl} f(x) \\to 0 & \\text{as}\\, x\\to a \\\\ g(x) \\to 0 & \\text{as}\\, x\\to a \\end{array} $$\n",
    "### and the functions $f$ and $g$ are differentiable near the point $x=a$, then limit\n",
    "## $$ \\lim_{x\\to a} \\frac{f(x)}{g(x)} = \\lim_{x\\to a}\\frac{f'(x)}{g'(x)} $$\n",
    "### provided that the right hand limit exists or is $\\pm\\infty$.\n",
    "### ***L'Hôpital's Rule Version 2: Indeterminate form $\\frac{\\infty}{\\infty}$***\n",
    "### If\n",
    "## $$ \\begin{array} {rcl} f(x) \\to \\pm\\infty & \\text{as}\\, x\\to a \\\\ g(x) \\to \\pm\\infty & \\text{as}\\, x\\to a \\end{array} $$\n",
    "### and the functions $f$ and $g$ are differentiable near the point $x=a$, then limit\n",
    "## $$ \\lim_{x\\to a}\\frac{f(x)}{g(x)} = \\lim_{x\\to a} \\frac{f'(x)}{g'(x)} $$\n",
    "### provided that the right hand limit exists or is $\\pm\\infty$.\n",
    "\n",
    "### Note that\n",
    "### - We can replace $a$ with $a^+$ or $a^-$ and the results (versions 1 and 2) still hold.\n",
    "### - We can replace $a$ with $\\pm\\infty$, and the results (versions 1 and 2) still hold."
   ]
  },
  {
   "cell_type": "markdown",
   "id": "84a418d4-c942-44d9-bac7-cc9043e7a45a",
   "metadata": {},
   "source": []
  }
 ],
 "metadata": {
  "kernelspec": {
   "display_name": "Python 3",
   "language": "python",
   "name": "python3"
  },
  "language_info": {
   "codemirror_mode": {
    "name": "ipython",
    "version": 3
   },
   "file_extension": ".py",
   "mimetype": "text/x-python",
   "name": "python",
   "nbconvert_exporter": "python",
   "pygments_lexer": "ipython3",
   "version": "3.8.8"
  }
 },
 "nbformat": 4,
 "nbformat_minor": 5
}
