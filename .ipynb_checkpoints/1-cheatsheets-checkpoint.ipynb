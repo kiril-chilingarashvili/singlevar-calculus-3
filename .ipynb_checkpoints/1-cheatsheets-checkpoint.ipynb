{
 "cells": [
  {
   "cell_type": "markdown",
   "id": "7edab78d",
   "metadata": {},
   "source": [
    "# Unit 1: Coordinate Systems"
   ]
  },
  {
   "cell_type": "markdown",
   "id": "fa6d869c",
   "metadata": {},
   "source": [
    "## Parametric curves\n",
    "\n",
    "### A parametric curve (in the plane) is a curve defined by two equations\n",
    "## $$ \\begin{array} {rcl} x & = & x(t) \\\\ y & = & y(t) \\end{array} $$\n",
    "### where $t$ is called a ***parameter***. \n",
    "### For each real number $t$, the point $(x(t), y(t))$ is a point on the curve"
   ]
  },
  {
   "cell_type": "markdown",
   "id": "c7aaf373",
   "metadata": {},
   "source": [
    "### Mathlet: [link](https://mathlets1801.surge.sh/parametricCurves.html)"
   ]
  },
  {
   "cell_type": "markdown",
   "id": "ea14867e",
   "metadata": {},
   "source": [
    "## Tangent lines of parametric curves\n",
    "### The slope of a parametric curve $x=x(t), y=y(t)$, is\n",
    "## $$ \\frac{dy}{dx} = \\frac{\\frac{dy}{dt}}{\\frac{dx}{dt}} $$\n",
    "### In particular, to find the slope of the tangent line to the curve at $t=t_0$, we compute $\\frac{y'(t_0)}{x'(t_0)}$."
   ]
  },
  {
   "cell_type": "markdown",
   "id": "379d67b6",
   "metadata": {},
   "source": [
    "## Arc length of parametric curves\n",
    "\n",
    "### Consider a particle moving along a trajectory. The motion is described by the parametric curve\n",
    "## $$ \\begin{array} {rcl} x & = & x(t) \\\\ y & = & y(t) \\end{array} $$\n",
    "### The speed of the particle is given by\n",
    "## $$ \\frac{ds}{dt} = \\sqrt{(x'(t))^2+(y'(t))^2} $$\n",
    "### The differential arc length element is given by\n",
    "## $$ ds = \\sqrt{(x'(t))^2+(y'(t))^2} dt $$\n",
    "### Consider the arc length, or distance travelled by the particle from time $t_0$ to time $t_1$. The letter $s$ is customarily used to denote arc length. You should think of $s=s(t)$ as a function of time, where $s(t)$ is the distance travelled by the particle since some starting time. If $s_0=s(t_0)$ and $s_1=s(t_1)$, then the distance traveled by the particle from time $t_0$ to $t_1$ can be calculated by\n",
    "## $$ s_1-s_0=\\int_{s_0}^{s_1} ds = \\int_{t_0}^{t_1} \\sqrt{(x'(t))^2+(y'(t))^2} dt $$"
   ]
  },
  {
   "cell_type": "markdown",
   "id": "7d69288a",
   "metadata": {},
   "source": [
    "## Position and speed along a parametric curve\n",
    "### We have been thinking of a parametric curve as the description of a particle's position over time. So what is the velocity? And what about the acceleration?\n",
    "### - The derivative $x'(t)$ is the velocity in the direction of the $x$-axis.\n",
    "### - The derivative $y'(t)$ is the velocity in the direction of the $y$-axis.\n",
    "### - The speed along the curve is given by $\\frac{ds}{dt} = \\sqrt{(x'(t))^2+(y'(t))^2}$ \n",
    "### - The notion of velocity along the curve requires considering $x'$ and $y'$ together in what is known as a vector. Both velocity and acceleration are vectors and you will see them in multivariable calculus."
   ]
  },
  {
   "cell_type": "markdown",
   "id": "37f2fbfa",
   "metadata": {},
   "source": [
    "## Review of surface area\n",
    "\n",
    "### Consider the surface area created by rotating the curve $y=f(x)$ about the $x$-axis.\n",
    "![Img](img/rotated.png)\n",
    "### If you imagine cutting the band, the area is approximately equal to the area of the rectangle whose base is the circumference $2\\pi y$, and whose height is $\\Delta s$. The differential surface area element is $dA = (2\\pi y)ds$\n",
    "### The surface area is computed by the integral:\n",
    "## $$ A = \\int_{s_0}^{s_1}(2\\pi y)ds $$\n",
    "![Img](img/rotated-2.png)\n",
    "### Note that if we take a curve and rotate about the $y$-axis, the differential surface area element is $dA = (2\\pi x)ds$ and the surface area is computed by the integral\n",
    "## $$ \\int_{s_0}^{s_1} (2\\pi x)ds $$\n",
    "### Now we will find the surface area for surfaces created by rotating a curve defined by a parametric equation."
   ]
  },
  {
   "cell_type": "markdown",
   "id": "0bb1b755",
   "metadata": {},
   "source": [
    "## Surface area\n",
    "### Consider the parametric curve\n",
    "## $$ \\begin{array} {rcl} x & = & x(t) \\\\ y & = & y(t) \\end{array} $$\n",
    "### Consider the surface formed by rotating the curve about the $y$-axis.\n",
    "### The differential surface area element is given by\n",
    "## $$ \\begin{array} {rcl} dA & = & 2\\pi x ds \\\\ \\, & = & 2\\pi x(t) \\sqrt{(x'(t))^2+(y'(t))^2}dt \\end{array} $$\n",
    "### The surface area from time $t_0$ to time $t_1$ is given by the integral:\n",
    "## $$ \\text{Surface area of parametric curve} = \\int_{t_0}^{t_1} 2\\pi x(t)\\sqrt{(x'(t))^2+(y'(t))^2}dt $$\n",
    "### Consider the surface formed by rotating the curve about the $x$-axis.\n",
    "### The differential surface area element is given by\n",
    "## $$ \\begin{array} {rcl} dA & = & 2\\pi y ds \\\\ \\, & = & 2\\pi y(t) \\sqrt{(x'(t))^2+(y'(t))^2}dt \\end{array} $$\n",
    "### The surface area from time $t_0$ to time $t_1$ is given by the integral:\n",
    "## $$ \\text{Surface area of parametric curve} = \\int_{t_0}^{t_1} 2\\pi y(t)\\sqrt{(x'(t))^2+(y'(t))^2}dt $$\n",
    "### The following mathlet is the same as the one earlier in this section. It may be useful for the following problem.\n",
    "### [Mathlet](https://mathlets1801.surge.sh/parametricCurves.html) (https://mathlets1801.surge.sh/parametricCurves.html)"
   ]
  },
  {
   "cell_type": "markdown",
   "id": "ace7d424",
   "metadata": {},
   "source": [
    "## Area under parametric curves\n",
    "### The (signed) area under a curve $y=f(x)$ between $x=a$ and $x=b$ is given by $\\int_{a}^{b} f(x) dx$.\n",
    "### Suppose that this curve is parameterized by the equations\n",
    "## $$ \\begin{array} {rcl} x & = & x(t) \\\\ y & = & y(t) \\end{array} $$\n",
    "### Moreover suppose that $x(t_0) = a$ and $x(t_1) = b$. Then the (signed) area under the curve is also equal to\n",
    "## $$ \\int_{a}^{b} f(x)dx = \\int_{t_0}^{t_1} f(x(t))x'(t) dt $$\n",
    "### by change of variables (or by substitution and applying the chain rule). \n",
    "### But note that\n",
    "## $$ \\begin{array} {rcl} y & = & f(x) \\\\ y & = & y(t) \\\\ \\implies y(t) & = & f(x(t)) \\end{array} $$\n",
    "### hence\n",
    "## $$ \\int_{a}^{b} f(x) dx = \\int_{t_0}^{t_1} y(t) x'(t) dt $$\n",
    "### This formula for the (signed) area under a parametric curve holds in general!\n",
    "\n",
    "### ***General result for parametric curves***\n",
    "### Given a parametric curve:\n",
    "## $$ \\begin{array} {rcl} x & = & x(t) \\\\ y & = & y(t) \\end{array} $$\n",
    "### The signed area of the region bounded between the curve and the $x$-axis for $t_0<t<t_1$ is given by the integral\n",
    "## $$ \\text{Signed Area} = \\int_{t_0}^{t_1} y(t)x'(t)dt $$"
   ]
  },
  {
   "cell_type": "markdown",
   "id": "9136dc71",
   "metadata": {},
   "source": [
    "### ***Areas enclosed by parametric curves***\n",
    "### Note that we can extend this idea of finding area under curves to finding the area enclosed by parametric curves in the case that the graph forms a closed region.\n",
    "\n",
    "### However, you must be very careful when thinking about signs, and in identifying the limits of integration for such regions! Take care."
   ]
  },
  {
   "cell_type": "markdown",
   "id": "ba5a413f",
   "metadata": {},
   "source": [
    "### ***Wheel mathlet***\n",
    "### The cycloid is depicted in the following mathlet. \n",
    "### [Mathlet](https://mathlets1801.surge.sh/wheel.html) (https://mathlets1801.surge.sh/wheel.html)"
   ]
  },
  {
   "cell_type": "markdown",
   "id": "58d38ad3",
   "metadata": {},
   "source": [
    "### ***Parametric curves and their graphs***\n",
    "### Observe that the same curve can be parameterized in different ways.\n",
    "\n",
    "### Note that the graph of a parametric curve gives you less information than what is incorporated by the parametric equations themselves. Because the parameter $t$ is hidden, you don't see where you are at each time, or how fast the curve is traced out. In the previous problems, you saw this by comparing the speeds of two curves whose trajectories followed the same circle."
   ]
  },
  {
   "cell_type": "markdown",
   "id": "448bc2ee",
   "metadata": {},
   "source": [
    "## Introduction to polar coordinates\n",
    "![Polar](img/polar-1.png)"
   ]
  },
  {
   "cell_type": "markdown",
   "id": "412423a6",
   "metadata": {},
   "source": [
    "### The polar coordinates of a point  are an ordered pair  such that\n",
    "## $$ \\begin{array} {rcl} x & = & r \\cos(\\theta) \\\\ y & = & r \\sin(\\theta) \\end{array} $$\n",
    "### where the ordered pair $(x, y)$ give the rectangular coordinates of the point $P$.\n",
    "### In other words, given the polar coordinates $(r, \\theta)$ of a point, we can find its $x$- and $y$-coordinates using these formulas.\n",
    "### The usual rectangular coordinates $x$ and $y$ are also called ***Cartesian coordinates***. To find polar coordinates from Cartesian coordinates, we use\n",
    "## $$ \\begin{array} {rcl} r & = & \\pm \\sqrt{x^2+y^2} \\\\ \\theta & = & \\operatorname{arctan}(\\frac{y}{x}) \\end{array} $$\n",
    "### However, $r$ and $\\theta$ are not unique for any given point. We will explain this ambiguity along with how to use these formulas in more detail after a few exercises.\n",
    "### Polar coordinates are motivated by the fact that we can locate a point on a plane by specifying:\n",
    "### $$ \\begin{array} {rcl} r & : & \\text{the distance from the origin to the point,} \\\\ \\theta & : & \\text{the angle of the ray from the origin to the point with the positive} \\end{array} $$"
   ]
  },
  {
   "cell_type": "markdown",
   "id": "32554a8e",
   "metadata": {},
   "source": [
    "## Ambiguities of polar coordinates\n",
    "\n",
    "### The polar coordinates describing a point are not unique. First,\n",
    "## $$ (r, \\theta) = (r, \\theta+2\\pi n) \\quad n\\,\\text{any integer} $$\n",
    "### That is, knowing the $x$- and $y$- coordinates only determines $\\theta$ up to $2\\pi$-periodicity. We frequently use conventions such as:\n",
    "## $$ \\begin{array} {rcccl} 0 & \\le & \\theta & < & 2\\pi \\\\ \\text{or}\\,-\\pi & < & \\theta & \\le & \\pi \\end{array} $$\n",
    "Second,\n",
    "## $$ \\begin{array} {rcl} (-r, \\theta) & = & (r, \\theta\\pm\\pi) \\quad -\\infty<r<\\infty \\\\ \\text{and equivalently} \\quad(r,\\theta) & = & (-r,\\theta\\pm\\pi) \\quad-\\infty<r<\\infty  \\end{array} $$\n",
    "### Verify that the first relation (and therefore the second) above makes sense since the left hand side and the right hand side indeed give the same $x$- and $y$-coordinates:\n",
    "## $$ \\begin{array} {rcccl} x & = & (-r)\\cos(\\theta) & = & r\\cos(\\theta\\pm\\pi) \\\\ y & = & (-r)\\sin(\\theta) & = & r\\sin(theta\\pm\\pi) \\end{array} $$ "
   ]
  },
  {
   "cell_type": "markdown",
   "id": "8f6d701b",
   "metadata": {},
   "source": [
    "## The angle theta\n",
    "### Note the following procedure for finding $\\theta$ works for finding $\\theta$ between $0$ and $2\\pi$. You may need to modify as needed to find $\\theta$ between $-\\pi$ and $\\pi$ for example!\n",
    "### To find $\\theta$ we first find\n",
    "## $$ \\theta_0 = \\arctan(\\frac{|y|}{|x|}) $$\n",
    "![Finding theta](img/finding-theta.png)\n",
    "### Here, $(x, y)$ lies in the second quadrant, $\\theta = \\pi - \\theta_0$\n",
    "### Then we find $\\theta$ using $\\theta_0$ by considering which quadrant it lies in, which is best done using a picture like the one above."
   ]
  },
  {
   "cell_type": "markdown",
   "id": "d505d052",
   "metadata": {},
   "source": [
    "## Review, and circles and rays\n",
    "### An equation written in polar coordinates is called a ***polar equation***. We will mostly be dealing with polar equations of the form $r=r(\\theta)$.\n",
    "### The simplest examples are:\n",
    "### - $r = a$:\n",
    "![ex](img/ex-1.png)\n",
    "### - $\\theta=\\alpha(r\\geq 0)$:\n",
    "![ex](img/ex-2.png)\n",
    "### If we use the convention $-\\infty<r<\\infty$ then $\\theta=\\alpha$ is a line through the origin:\n",
    "![ex](img/ex-3.png)\n",
    "### We use the circles and rays as the grid of the polar coordinate systems.\n"
   ]
  },
  {
   "cell_type": "markdown",
   "id": "89ff3e44",
   "metadata": {},
   "source": [
    "## Rotation about the origin\n",
    "### The graph of $r=r(\\theta-\\alpha)$ is obtained by rotating the graph of $r=r(\\theta)$ ***about the origin*** by the angle $+\\alpha$.\n",
    "### If $\\alpha>0$ the rotation is counterclockwise.\n",
    "### if $\\alpha<0$ the rotation is clockwise."
   ]
  },
  {
   "cell_type": "markdown",
   "id": "6c069281",
   "metadata": {},
   "source": [
    "## Area element\n",
    "![img](img/area-1.png)\n",
    "## $$ \\Delta A \\approx \\frac{1}{2}r^2\\Delta \\theta $$\n",
    "### Passing to the differential, the area element $dA$ in polar coordinates is the area of the infinitesimal region spanned by $d\\theta$, given by\n",
    "## $$ dA = \\frac{1}{2}r(\\theta)^2 d\\theta $$\n",
    "![img](img/area-2.png)\n",
    "### The area bounded a curve $r=r(theta)$, and the two rays $\\theta=\\theta_1$ and $\\theta=\\theta_2$ is\n",
    "## $$ A = \\int_{\\theta_1}^{\\theta_2} dA = \\frac{1}{2}\\int_{\\theta_1}^{\\theta_1} r(\\theta)^2 d\\theta $$"
   ]
  },
  {
   "cell_type": "markdown",
   "id": "dd926155-4528-46e3-b141-cec980efe4e8",
   "metadata": {},
   "source": [
    "### ***Circle with center on the $y$-axis***:\n",
    "## $$ r = 2b \\sin(\\theta) $$\n",
    "### ***Circle with center on the $x$-axis***:\n",
    "## $$ r = 2a \\cos(\\theta) $$"
   ]
  },
  {
   "cell_type": "markdown",
   "id": "17dba238-14a0-4e84-8f4e-0e9880af1447",
   "metadata": {},
   "source": [
    "### Polar graphing applet: [Applet https://integral-domain.org/lwilliams/Applets/precalculus/polarFunctions.php](https://integral-domain.org/lwilliams/Applets/precalculus/polarFunctions.php)"
   ]
  },
  {
   "cell_type": "markdown",
   "id": "3cd24100-cccf-441c-bfb7-bce136e49819",
   "metadata": {},
   "source": []
  }
 ],
 "metadata": {
  "kernelspec": {
   "display_name": "Python 3",
   "language": "python",
   "name": "python3"
  },
  "language_info": {
   "codemirror_mode": {
    "name": "ipython",
    "version": 3
   },
   "file_extension": ".py",
   "mimetype": "text/x-python",
   "name": "python",
   "nbconvert_exporter": "python",
   "pygments_lexer": "ipython3",
   "version": "3.8.8"
  }
 },
 "nbformat": 4,
 "nbformat_minor": 5
}
