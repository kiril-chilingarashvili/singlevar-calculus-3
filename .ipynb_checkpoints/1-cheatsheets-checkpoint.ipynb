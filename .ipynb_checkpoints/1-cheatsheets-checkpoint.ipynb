{
 "cells": [
  {
   "cell_type": "markdown",
   "id": "5c5804fd-541b-463a-b934-4f7ad947a36c",
   "metadata": {},
   "source": [
    "# Unit 1: Coordinate Systems"
   ]
  },
  {
   "cell_type": "markdown",
   "id": "6960f24b-da8e-4917-8766-fe2d7c72e4c5",
   "metadata": {},
   "source": [
    "## Parametric curves\n",
    "\n",
    "### A parametric curve (in the plane) is a curve defined by two equations\n",
    "## $$ \\begin{array} {rcl} x & = & x(t) \\\\ y & = & y(t) \\end{array} $$\n",
    "### where $t$ is called a ***parameter***. \n",
    "### For each real number $t$, the point $(x(t), y(t))$ is a point on the curve"
   ]
  },
  {
   "cell_type": "markdown",
   "id": "89cc182f-b604-48e6-86d9-cd69c2099b50",
   "metadata": {},
   "source": [
    "### Mathlet: [link](https://mathlets1801.surge.sh/parametricCurves.html)"
   ]
  },
  {
   "cell_type": "markdown",
   "id": "c22d5e14-8aa4-4f42-b54c-ffcdc7de4b0e",
   "metadata": {},
   "source": [
    "## Tangent lines of parametric curves\n",
    "### The slope of a parametric curve $x=x(t), y=y(t)$, is\n",
    "## $$ \\frac{dy}{dx} = \\frac{\\frac{dy}{dt}}{\\frac{dx}{dt}} $$\n",
    "### In particular, to find the slope of the tangent line to the curve at $t=t_0$, we compute $\\frac{y'(t_0)}{x'(t_0)}$."
   ]
  },
  {
   "cell_type": "markdown",
   "id": "012b6122-e14b-4d39-aa4f-8fb43a7cd5db",
   "metadata": {},
   "source": []
  }
 ],
 "metadata": {
  "kernelspec": {
   "display_name": "Python 3",
   "language": "python",
   "name": "python3"
  },
  "language_info": {
   "codemirror_mode": {
    "name": "ipython",
    "version": 3
   },
   "file_extension": ".py",
   "mimetype": "text/x-python",
   "name": "python",
   "nbconvert_exporter": "python",
   "pygments_lexer": "ipython3",
   "version": "3.8.8"
  }
 },
 "nbformat": 4,
 "nbformat_minor": 5
}
