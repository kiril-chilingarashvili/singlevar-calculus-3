{
 "cells": [
  {
   "cell_type": "markdown",
   "id": "81ca51d2-47ce-46c9-9fd3-6bfa9a97595d",
   "metadata": {},
   "source": [
    "# Unit 3: Infinite Series"
   ]
  },
  {
   "cell_type": "markdown",
   "id": "016a5569-4716-4068-b9ee-cac71da7d4db",
   "metadata": {},
   "source": [
    "## Direct comparison test\n",
    "\n",
    "### Let $0<a_n<b_n$ for all $n\\geq N$\n",
    "### Then\n",
    "### - If $\\displaystyle \\sum_{n=N}^{\\infty} b_n$ converges, then $\\displaystyle \\sum_{n=N}^{\\infty} a_n$ also converges\n",
    "### - If $\\displaystyle \\sum_{n=N}^{\\infty} a_n$ diverges, then $\\displaystyle \\sum_{n=N}^{\\infty} b_n$ also diverges"
   ]
  },
  {
   "cell_type": "markdown",
   "id": "17094d8a-4af2-4253-8f95-a8e4305ac7f0",
   "metadata": {},
   "source": [
    "## Limit comparison\n",
    "\n",
    "### If\n",
    "### 1. $\\displaystyle \\frac{f(n)}{g(n)} \\to c$ where $c\\neq 0$ is finite,\n",
    "### 2. $g(n)>0$ for all $n>N$ for some $N>0$,\n",
    "### then $\\displaystyle \\sum_{n=1}^{\\infty} f(n)$ and $\\displaystyle \\sum_{n=1}^{\\infty} g(n)$ either ***both converge or both diverge***.\n",
    "### In other words, if $f(n)$ and $g(n)$ decay at the same rate as $n$ tends to $\\infty$ then the series $\\displaystyle \\sum_{n=1}^{\\infty} f(n)$ and $\\displaystyle \\sum_{n=1}^{\\infty} g(n)$ converge or diverge together.\n",
    "### This is analogous to limit comparison for improper integrals.\n",
    "### ***Note***: The condition $\\displaystyle \\frac{f(n)}{g(n)} \\to c\\neq 0$ as $n\\to \\infty$ is equivalent to\n",
    "## $$ f(n) \\sim c g(n), \\quad \\text{that is}, \\quad \\frac{f(n)}{c g(n)} \\to 1, \\, \\text{as}\\,n\\to\\infty $$\n"
   ]
  },
  {
   "cell_type": "markdown",
   "id": "640121de-ce17-42db-98b7-44d2b120ef0d",
   "metadata": {},
   "source": [
    "## More on limit comparison\n",
    "\n",
    "### We can also use limit comparison in the following way.\n",
    "### Suppose $f(n), g(n) > 0$ for all $n\\geq N$ for some large $N$.\n",
    "### If $\\displaystyle \\frac{f(n)}{g(n)} \\to 0$ as $n \\to \\infty$ that is, $f(n)$ decays faster than $g(n)$ then\n",
    "### - $\\displaystyle \\sum_{n=N}^{\\infty} g(n)$ converges implies $\\displaystyle \\sum_{n=N}^{\\infty} f(n)$ converges;\n",
    "### - $\\displaystyle \\sum_{n=N}^{\\infty} f(n)$ diverges implies $\\displaystyle \\sum_{n=N}^{\\infty} g(n)$ diverges."
   ]
  },
  {
   "cell_type": "markdown",
   "id": "62f3d598-9271-41ef-99db-25dc57736975",
   "metadata": {},
   "source": [
    "### ***Example***\n",
    "### Determine is the following series converges or diverges.\n",
    "## $$ \\sum_{n=10}^{\\infty} \\frac{\\cos^2(n^3+n^2+1)}{n\\sqrt{n-2}} $$\n",
    "\n",
    "### ***Solution***\n",
    "### We start with direct comparison:\n",
    "## $$ \\begin{array} {rcl} \\, &  & \\displaystyle \\frac{\\cos^2(n^3+n^2+1)}{n\\sqrt{n-2}} \\leq \\frac{1}{n\\sqrt{n-2}}\\, \\text{for all}\\,n \\\\ \\implies & & \\displaystyle \\sum_{n=10}^{\\infty} \\frac{\\cos^2(n^3+n^2+1)}{n\\sqrt{n-2}} \\leq \\sum_{n=10}^{\\infty} \\frac{1}{n\\sqrt{n-2}} \\end{array} $$\n",
    "### Next, we use limit comparison to show $\\displaystyle \\sum_{n=10}^{\\infty} \\frac{1}{n\\sqrt{n-2}}$ converges. Since\n",
    "## $$ \\frac{1/(n\\sqrt{n-2})}{1/n^{3/2}} \\to 1\\quad (\\text{as}\\,n\\to \\infty) $$\n",
    "### and $\\displaystyle \\sum_{n=10}^{\\infty} \\frac{1}{n^{3/2}}$ converges, $\\displaystyle \\sum_{n=10}^{\\infty} \\frac{1}{n\\sqrt{n-2}}$ also converges.\n",
    "\n",
    "### The two results together imply the given series converges."
   ]
  },
  {
   "cell_type": "markdown",
   "id": "2d786767-8e9f-43fe-891d-3d072f24754c",
   "metadata": {},
   "source": [
    "## Ratio test\n",
    "\n",
    "### The ***ratio test*** is another way to determine convergence of a series.\n",
    "### Consider $\\displaystyle \\sum_{n=1}^{\\infty} a_n$ where $a_n > 0$ for all $n>N$.\n",
    "### Define\n",
    "## $$ L = \\lim_{n\\to\\infty}\\frac{a_{n+1}}{a_n} $$\n",
    "### There are three cases:\n",
    "### - If $L<1$ then the series ***converges***;\n",
    "### - If $L>1$ then the series ***diverges***;\n",
    "### - If $L=1$ then there is ***no conclusion***, i.e. the series can diverge or converge.\n",
    "### Here, we focus on series $\\displaystyle \\sum_{n=1}^{\\infty} a_n$ where $a_n>0$ for all $n$ large. You will see shortly that you can use the ratio test on series whose tail is not always positive."
   ]
  },
  {
   "cell_type": "markdown",
   "id": "99cb5de5-2e24-4105-b58a-23c0bda0e3a8",
   "metadata": {},
   "source": [
    "## Root tests\n",
    "\n",
    "### The ***root test*** is yet another test to determine the convergence of a series.\n",
    "### Consider $\\displaystyle \\sum_{n=1}^{\\infty}$ where $a_n>0$ for all $n>N$.\n",
    "### Define\n",
    "## $$ L = \\lim_{n\\to\\infty} \\sqrt[n]{a_n} = \\lim_{n\\to\\infty} (a_n)^{\\frac{1}{n}} $$\n",
    "### The conclusions are the same as for the ratio test, that is,\n",
    "### - If $L<1$ then the series ***converges***;\n",
    "### - If $L>1$ then the series ***diverges***;\n",
    "### - If $L=1$ then there is ***no conclusion***, that is, the series can either diverge or converge.\n",
    "### The root test can also be used for series whose tail consist of negative terms. You will see this shortly.\n",
    "### We are not going to discuss the proof of the root test."
   ]
  },
  {
   "cell_type": "markdown",
   "id": "f6b6ef53-6558-439e-b2a7-3064b31b5809",
   "metadata": {},
   "source": [
    "## A more difficult limit\n",
    "\n",
    "### When using the root test, you may also encounter $\\displaystyle \\lim_{n\\to\\infty} (n!)^{\\frac{1}{n}}$ This limit is harder to evaluate. \n",
    "### In fact,\n",
    "## $$ \\lim_{n\\to\\infty} (n!)^{\\frac{1}{n}} = \\infty $$\n",
    "### ***Computation of the limit***\n",
    "### We will first compute $\\displaystyle \\ln$ of the limit and then exponentiate.\n",
    "## $$ \\begin{array} {rcl} \\displaystyle \\ln(\\lim_{n\\to\\infty} (n!)^{\\frac{1}{n}}) & = & \\displaystyle \\lim_{n\\to\\infty} \\frac{\\ln(n!)}{n} \\\\ \\, & = & \\displaystyle \\lim_{n\\to\\infty} \\frac{\\displaystyle \\sum_{k=2}^{n}\\ln(k)}{n} \\end{array} $$\n",
    "### To show the limit is infinite, we can compare $\\displaystyle \\frac{\\displaystyle \\sum_{k=2}^{n}\\ln(k)}{n}$ with a smaller function whose limit is infinite. Let us proceed.\n",
    "### The partial sum $\\displaystyle \\sum_{k=2}^{n}\\ln(k) $ is the right Riemann sum of $\\displaystyle \\int_{1}^{n}\\ln(x)dx$ with $\\Delta x = 1$ Since $\\ln(x)$ is an increasing function,\n",
    "## $$ \\sum_{k=2}^{n}\\ln(k) > \\int_{1}^{n}\\ln(x)dx $$\n",
    "### Now, we evaluate the integral using integration by parts:\n",
    "## $$ \\begin{array} {rcl} \\displaystyle \\int \\ln(x) dx & = & \\displaystyle x\\ln(x) - \\int \\frac{x}{x}dx \\quad (u=\\ln(x), dv=dx) \\\\ \\, & = & \\displaystyle x\\ln(x) - x \\\\ \\displaystyle \\implies \\int_{1}^{n}\\ln(x)dx & = & \\displaystyle n\\ln(n)-n+1 \\end{array}  $$\n",
    "### Therefore, we have a lower bound for $\\displaystyle \\sum_{k=1}^{n}\\ln(k)$:\n",
    "## $$ \\sum_{k=1}^{n}\\ln(k) > n\\ln(n)-n+1 $$\n",
    "### Let us get back to evaluating the limit.\n",
    "## $$ \\begin{array} {rcl} \\displaystyle \\ln(\\lim_{n\\to\\infty} (n!)^{\\frac{1}{n}}) & = & \\displaystyle \\lim_{n\\to\\infty} \\frac{\\displaystyle \\sum_{k=2}^{n} \\ln(k)}{n} \\\\ \\, & > & \\displaystyle \\lim_{n\\to\\infty} (\\ln(n)-1+\\frac{1}{n}) \\\\ \\, & = & \\infty \\end{array} $$\n",
    "### This implies\n",
    "## $$ \\lim_{n\\to\\infty} (n!)^{\\frac{1}{n}} = e^{\\infty} = \\infty $$"
   ]
  },
  {
   "cell_type": "markdown",
   "id": "a324bc7e-03f6-4a00-ba67-a67b35a9dda3",
   "metadata": {},
   "source": [
    "## Root test continued\n",
    "\n",
    "### ***Worked examples: root test***\n",
    "\n",
    "### ***Example 1***: the geometric series\n",
    "### The root test is another way to determine convergence of a geometric series. Consider\n",
    "## $$ \\sum_{n=1}^{\\infty} x^n\\quad\\text{where}\\,x>0 $$\n",
    "### To use the root test, we first compute $L$.\n",
    "## $$ \\begin{array} {rcl} L & = & \\displaystyle \\lim_{n\\to\\infty} \\sqrt[n]{x^n} \\\\ \\, & = & \\displaystyle \\lim_{n\\to\\infty} x \\\\ \\, & = & x \\quad (x>0) \\end{array} $$\n",
    "### Therefore, the root test tells us that $\\displaystyle \\sum_{n=1}^{\\infty} x^n \\quad (x>0) $ converges when $L=x<1$, and diverges when $L=x>1$. The root test does not give any information when $L=x=1$ even though we already know by the divergence test that $\\displaystyle \\sum_{n=1}^{\\infty} 1^n$ diverges.\n",
    "\n",
    "### ***Example 2***\n",
    "### We will use the root test to determine if the following series converges or diverges.\n",
    "## $$ \\sum_{n=1}^{\\infty} \\frac{n^2}{2^n} $$\n",
    "### First, we compute $\\displaystyle L = \\lim_{n\\to\\infty} (a_n)^{\\frac{1}{n}}$.\n",
    "## $$ \\begin{array} {rcl} L & = & \\displaystyle \\lim_{n\\to\\infty} (\\frac{n^2}{2^n})^{\\frac{1}{n}} \\\\ \\, & = & \\displaystyle \\lim_{n\\to\\infty} \\frac{(n^2)^{\\frac{1}{n}}}{2} \\\\ \\, & = & \\displaystyle \\frac{1}{2}\\lim_{n\\to\\infty} (n^2)^{\\frac{1}{n}} \\\\ \\, & = & \\displaystyle \\frac{1}{2} \\quad (\\lim_{n\\to\\infty} (n^2)^{\\frac{1}{n}}=1\\,\\text{from previous page}) \\end{array} $$\n",
    "### Therefore, since $L<1$ we conclude from the root test that the series $\\displaystyle \\sum_{n=1}^{\\infty} \\frac{n^2}{2^n}$ converges."
   ]
  },
  {
   "cell_type": "markdown",
   "id": "e3b473c5-bfb6-4c5c-8e2e-026e0010ef49",
   "metadata": {},
   "source": [
    "## Conditional Convergence\n",
    "\n",
    "### ***Absolute convergence versus conditional convergence***\n",
    "\n",
    "### So far, we have focused on series whose terms are positive (with the exception of the geometric series and the divergence test). For general series, including series with both positive and negative terms, there are two notions of convergence.\n",
    "\n",
    "### Consider the series\n",
    "## $$ S = \\sum_{n=1}^{\\infty} a_n \\quad (a_n\\, \\text{can be positive or negative}) $$\n",
    "### The series $S$ is ***absolutely convergent*** if $\\displaystyle \\sum_{n=1}^{\\infty} |a_n| $ converges.\n",
    "### The series $S$ is ***conditionally convergent*** if it converges but is ***not absolutely convergent***.\n",
    "### Strange to say, an absolute convergent series is ***not*** conditionally convergent.\n",
    "### For series with only positive terms, absolute convergence is the same as convergence.\n",
    "### In general, absolute convergence of a series implies convergence.\n",
    "\n",
    "### ***Absolute convergence implies convergence***\n",
    "### Convergence of a series means $\\displaystyle \\lim_{M\\to\\infty} \\left| S - \\sum_{n=1}^{M} a_n \\right| = 0 $ and the reason that absolute convergence of a series implies convergence is that\n",
    "## $$ \\left| \\sum_{n=M+1}^{N} a_n \\right| \\leq \\sum_{n=M+1}^{N} |a_n| \\to 0 \\quad \\text{as both}\\, M,N\\to\\infty $$\n",
    "\n",
    "### Because absolute convergence concerns the convergence of $\\displaystyle  \\sum_{n=1}^{\\infty} |a_n|$, we can apply all of the techniques we have learned to determine absolute convergence.\n",
    "\n",
    "### ***Example***\n",
    "\n",
    "### Consider the series\n",
    "## $$ \\sum_{n=1}^{\\infty} \\frac{(-1)^n}{n^p} $$\n",
    "### Note that\n",
    "## $$ \\sum_{n=1}^{\\infty} \\left| \\frac{(-1)^n}{n^p} \\right| = \\sum_{n=1}^{\\infty} \\frac{1}{n^p} $$\n",
    "### Since $\\displaystyle \\sum_{n=1}^{\\infty} \\frac{1}{n^p} $ converges for all $p>1$, $\\displaystyle \\sum_{n=1}^{\\infty} \\frac{(-1)^n}{n^p}$ is absolutely convergent for all $p>1$\n",
    "### Since $\\displaystyle \\sum_{n=1}^{\\infty} \\frac{1}{n^p} $ diverges for all $p\\leq 1$, $\\displaystyle \\sum_{n=1}^{\\infty} \\frac{(-1)^n}{n^p}$ is not absolutely convergent for all $p\\leq 1$. We will see shortly that $\\displaystyle \\sum_{n=1}^{\\infty} \\frac{(-1)^n}{n^p} $ is conditionally convergent for all $p\\leq 1$."
   ]
  },
  {
   "cell_type": "markdown",
   "id": "a7bac988-5c4b-4732-86c5-cf6f4bd8c077",
   "metadata": {},
   "source": []
  }
 ],
 "metadata": {
  "kernelspec": {
   "display_name": "Python 3",
   "language": "python",
   "name": "python3"
  },
  "language_info": {
   "codemirror_mode": {
    "name": "ipython",
    "version": 3
   },
   "file_extension": ".py",
   "mimetype": "text/x-python",
   "name": "python",
   "nbconvert_exporter": "python",
   "pygments_lexer": "ipython3",
   "version": "3.8.8"
  }
 },
 "nbformat": 4,
 "nbformat_minor": 5
}
