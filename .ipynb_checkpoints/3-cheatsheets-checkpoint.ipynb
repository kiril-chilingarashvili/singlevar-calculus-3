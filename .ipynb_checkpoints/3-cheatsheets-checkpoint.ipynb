{
 "cells": [
  {
   "cell_type": "markdown",
   "id": "81ca51d2-47ce-46c9-9fd3-6bfa9a97595d",
   "metadata": {},
   "source": [
    "# Unit 3: Infinite Series"
   ]
  },
  {
   "cell_type": "markdown",
   "id": "016a5569-4716-4068-b9ee-cac71da7d4db",
   "metadata": {},
   "source": [
    "## Direct comparison test\n",
    "\n",
    "### Let $0<a_n<b_n$ for all $n\\geq N$\n",
    "### Then\n",
    "### - If $\\displaystyle \\sum_{n=N}^{\\infty} b_n$ converges, then $\\displaystyle \\sum_{n=N}^{\\infty} a_n$ also converges\n",
    "### - If $\\displaystyle \\sum_{n=N}^{\\infty} a_n$ diverges, then $\\displaystyle \\sum_{n=N}^{\\infty} b_n$ also diverges"
   ]
  },
  {
   "cell_type": "markdown",
   "id": "17094d8a-4af2-4253-8f95-a8e4305ac7f0",
   "metadata": {},
   "source": [
    "## Limit comparison\n",
    "\n",
    "### If\n",
    "### 1. $\\displaystyle \\frac{f(n)}{g(n)} \\to c$ where $c\\neq 0$ is finite,\n",
    "### 2. $g(n)>0$ for all $n>N$ for some $N>0$,\n",
    "### then $\\displaystyle \\sum_{n=1}^{\\infty} f(n)$ and $\\displaystyle \\sum_{n=1}^{\\infty} g(n)$ either ***both converge or both diverge***.\n",
    "### In other words, if $f(n)$ and $g(n)$ decay at the same rate as $n$ tends to $\\infty$ then the series $\\displaystyle \\sum_{n=1}^{\\infty} f(n)$ and $\\displaystyle \\sum_{n=1}^{\\infty} g(n)$ converge or diverge together.\n",
    "### This is analogous to limit comparison for improper integrals.\n",
    "### ***Note***: The condition $\\displaystyle \\frac{f(n)}{g(n)} \\to c\\neq 0$ as $n\\to \\infty$ is equivalent to\n",
    "## $$ f(n) \\sim c g(n), \\quad \\text{that is}, \\quad \\frac{f(n)}{c g(n)} \\to 1, \\, \\text{as}\\,n\\to\\infty $$\n"
   ]
  },
  {
   "cell_type": "markdown",
   "id": "640121de-ce17-42db-98b7-44d2b120ef0d",
   "metadata": {},
   "source": [
    "## More on limit comparison\n",
    "\n",
    "### We can also use limit comparison in the following way.\n",
    "### Suppose $f(n), g(n) > 0$ for all $n\\geq N$ for some large $N$.\n",
    "### If $\\displaystyle \\frac{f(n)}{g(n)} \\to 0$ as $n \\to \\infty$ that is, $f(n)$ decays faster than $g(n)$ then\n",
    "### - $\\displaystyle \\sum_{n=N}^{\\infty} g(n)$ converges implies $\\displaystyle \\sum_{n=N}^{\\infty} f(n)$ converges;\n",
    "### - $\\displaystyle \\sum_{n=N}^{\\infty} f(n)$ diverges implies $\\displaystyle \\sum_{n=N}^{\\infty} g(n)$ diverges."
   ]
  },
  {
   "cell_type": "markdown",
   "id": "62f3d598-9271-41ef-99db-25dc57736975",
   "metadata": {},
   "source": [
    "### ***Example***\n",
    "### Determine is the following series converges or diverges.\n",
    "## $$ \\sum_{n=10}^{\\infty} \\frac{\\cos^2(n^3+n^2+1)}{n\\sqrt{n-2}} $$\n",
    "\n",
    "### ***Solution***\n",
    "### We start with direct comparison:\n",
    "## $$ \\begin{array} {rcl} \\, &  & \\displaystyle \\frac{\\cos^2(n^3+n^2+1)}{n\\sqrt{n-2}} \\leq \\frac{1}{n\\sqrt{n-2}}\\, \\text{for all}\\,n \\\\ \\implies & & \\displaystyle \\sum_{n=10}^{\\infty} \\frac{\\cos^2(n^3+n^2+1)}{n\\sqrt{n-2}} \\leq \\sum_{n=10}^{\\infty} \\frac{1}{n\\sqrt{n-2}} \\end{array} $$\n",
    "### Next, we use limit comparison to show $\\displaystyle \\sum_{n=10}^{\\infty} \\frac{1}{n\\sqrt{n-2}}$ converges. Since\n",
    "## $$ \\frac{1/(n\\sqrt{n-2})}{1/n^{3/2}} \\to 1\\quad (\\text{as}\\,n\\to \\infty) $$\n",
    "### and $\\displaystyle \\sum_{n=10}^{\\infty} \\frac{1}{n^{3/2}}$ converges, $\\displaystyle \\sum_{n=10}^{\\infty} \\frac{1}{n\\sqrt{n-2}}$ also converges.\n",
    "\n",
    "### The two results together imply the given series converges."
   ]
  },
  {
   "cell_type": "markdown",
   "id": "2d786767-8e9f-43fe-891d-3d072f24754c",
   "metadata": {},
   "source": []
  }
 ],
 "metadata": {
  "kernelspec": {
   "display_name": "Python 3",
   "language": "python",
   "name": "python3"
  },
  "language_info": {
   "codemirror_mode": {
    "name": "ipython",
    "version": 3
   },
   "file_extension": ".py",
   "mimetype": "text/x-python",
   "name": "python",
   "nbconvert_exporter": "python",
   "pygments_lexer": "ipython3",
   "version": "3.8.8"
  }
 },
 "nbformat": 4,
 "nbformat_minor": 5
}
