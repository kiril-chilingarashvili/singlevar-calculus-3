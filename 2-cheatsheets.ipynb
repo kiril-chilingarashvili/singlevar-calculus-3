{
 "cells": [
  {
   "cell_type": "markdown",
   "id": "ae4d7c03",
   "metadata": {},
   "source": [
    "# Unit 2: Understanding Infinity"
   ]
  },
  {
   "cell_type": "markdown",
   "id": "1edea77e",
   "metadata": {},
   "source": [
    "## l'Hôpital's Rule\n",
    "\n",
    "### ***L'Hôpital's Rule Version 1: Indeterminate form $\\frac{0}{0}$***\n",
    "### If\n",
    "## $$ \\begin{array} {rcl} f(x) \\to 0 & \\text{as}\\, x\\to a \\\\ g(x) \\to 0 & \\text{as}\\, x\\to a \\end{array} $$\n",
    "### and the functions $f$ and $g$ are differentiable near the point $x=a$, then limit\n",
    "## $$ \\lim_{x\\to a} \\frac{f(x)}{g(x)} = \\lim_{x\\to a}\\frac{f'(x)}{g'(x)} $$\n",
    "### provided that the right hand limit exists or is $\\pm\\infty$.\n",
    "### ***L'Hôpital's Rule Version 2: Indeterminate form $\\frac{\\infty}{\\infty}$***\n",
    "### If\n",
    "## $$ \\begin{array} {rcl} f(x) \\to \\pm\\infty & \\text{as}\\, x\\to a \\\\ g(x) \\to \\pm\\infty & \\text{as}\\, x\\to a \\end{array} $$\n",
    "### and the functions $f$ and $g$ are differentiable near the point $x=a$, then limit\n",
    "## $$ \\lim_{x\\to a}\\frac{f(x)}{g(x)} = \\lim_{x\\to a} \\frac{f'(x)}{g'(x)} $$\n",
    "### provided that the right hand limit exists or is $\\pm\\infty$.\n",
    "\n",
    "### Note that\n",
    "### - We can replace $a$ with $a^+$ or $a^-$ and the results (versions 1 and 2) still hold.\n",
    "### - We can replace $a$ with $\\pm\\infty$, and the results (versions 1 and 2) still hold."
   ]
  },
  {
   "cell_type": "markdown",
   "id": "7b2d03bb",
   "metadata": {},
   "source": [
    "## Review of L'Hospital's rule and growth rates\n",
    "\n",
    "### Here we recall l'Hôpital's rule in one case, $\\displaystyle\\frac{\\infty}{\\infty}$.\n",
    "### If $\\displaystyle\\left\\{ \\begin{array} {rcl} f(x) & \\to & \\infty \\\\ g(x) & \\to & \\infty \\\\ \\frac{f'}{g'} & \\to & L \\end{array} \\right.$ as  $x \\to a$,\n",
    "### then $\\frac{f}{g} \\to L$ as $x \\to a$.\n",
    "### (Recall that $a = \\pm \\infty$ and $L = \\pm \\infty$ is OK.)\n",
    "### ***Rate of Growth (as $x \\to \\infty$)***\n",
    "### Consider $f,g>0$. We say that $g$ grows faster than $f$ as $x$ tends towards $\\infty$, and write this as\n",
    "## $$ 0 < f(x) << g(x) $$\n",
    "### if $f,g \\to \\infty$ and $\\displaystyle\\frac{f(x)}{g(x)} \\to 0$ as  $x \\to \\infty$.\n",
    "### ***Examples***\n",
    "\n",
    "### For $p > 0$\n",
    "## $$\\displaystyle \\ln x << x^p << e^x << e^{x^2} $$\n",
    "### Note that $e^{x^2} = e^(x^2)$, not $(e^x)^2 = e^{2x}$.\n",
    "\n",
    "### ***Rate of Decay (as $x \\to \\infty$)***\n",
    "### Consider $f,g > 0$. We say that $f$ decays faster than $g$ as $x$ tends towards $\\infty$, and write this as\n",
    "## $$ g(x) >> f(x) > 0 $$\n",
    "### if $f,g \\to 0$ and $\\displaystyle\\frac{f(x)}{g(x)} \\to 0$ as $x \\to \\infty$.\n",
    "\n",
    "### ***Examples***\n",
    "### For $p>0$\n",
    "## $$\\displaystyle \\frac{1}{\\ln x} >> \\frac{1}{x^p} >> e^{-x} >> e^{-x^2} $$"
   ]
  },
  {
   "cell_type": "markdown",
   "id": "c844b262",
   "metadata": {},
   "source": [
    "## Improper integrals\n",
    "\n",
    "### An ***improper integral*** is defined by \n",
    "## $$ \\int_{a}^{\\infty} f(x) dx = \\lim_{N \\to \\infty} \\int_{a}^{N} f(x) dx $$\n",
    "### This improper integral ***converges*** if the limit exists and is finite.\n",
    "### This improper integral ***diverges*** if the limit does not exist (this includes when the limit is $\\pm\\infty$)."
   ]
  },
  {
   "cell_type": "markdown",
   "id": "df1c8ba9",
   "metadata": {},
   "source": [
    "## Powers of $x$\n",
    "### For $a>0$:\n",
    "## $$ \\int_{a}^{\\infty} \\frac{dx}{x^p} \\left\\{ \\begin{array} {lcl} \\text{diverges} & \\text{if} & p \\leq 1 \\\\ \\text{converges to}\\, \\frac{a^{-p+1}}{p-1} & \\text{if} & p > 1 \\end{array} \\right. $$"
   ]
  },
  {
   "cell_type": "markdown",
   "id": "e9c84d1d",
   "metadata": {},
   "source": [
    "## Limit comparison\n",
    "\n",
    "### ***Notation***\n",
    "### We say that $f(x) \\sim g(x)$ as $x \\to \\infty$ if  $\\displaystyle\\frac{f(x)}{g(x)} \\underset{x\\to \\infty}{\\longrightarrow} 1$.\n",
    "### In words, we say that $f(x)$ and $g(x)$ are ***similar*** as $x \\to \\infty$. (The idea is that $f(x)$ and g(x) have the same asymptotic behavior as $x$ tends to infinity.)\n",
    "\n",
    "### ***Limit comparison***\n",
    "### The idea behind limit comparison is that if the asymptotic behavior is the same, then the improper integrals have the same behavior.\n",
    "### Let $f(x), g(x) \\geq 0$.\n",
    "### If $f(x) \\sim g(x)$ as $x\\to \\infty$,\n",
    "### then the two integrals $\\displaystyle\\int_{a}^{\\infty} f(x) dx$ and $\\displaystyle\\int_{a}^{\\infty} g(x) dx$ (for large $a$) either ***both converge*** or ***both diverge***.\n",
    "### This also works in the case where one function decays faster than the other as $x$ tends towards infinity.\n",
    "### Suppose that $g(x)$ decays faster than $f(x)$ as $x \\to \\infty$. That is $f(x) >> g(x)$ as $x \\to \\infty$.\n",
    "### - If $\\displaystyle\\int_{a}^{\\infty} f(x) dx$ converges, then $\\displaystyle\\int_{a}^{\\infty} g(x) dx$ converges.\n",
    "### - If $\\displaystyle\\int_{a}^{\\infty} g(x) dx$ diverges, then $\\displaystyle\\int_{a}^{\\infty} f(x) dx$ diverges."
   ]
  },
  {
   "cell_type": "markdown",
   "id": "d3fe29b0",
   "metadata": {},
   "source": [
    "## Decay rate and comparison of improper integrals\n",
    "\n",
    "### Suppose $f(x) \\geq g(x) > 0$ for $x \\geq a$.\n",
    "### If $\\displaystyle\\int_{a}^{\\infty} f(x) dx$ converges, then $\\displaystyle\\int_{a}^{\\infty} g(x) dx$ converges also.\n",
    "### If $\\displaystyle\\int_{a}^{\\infty} g(x) dx$ diverges, then $\\displaystyle\\int_{a}^{\\infty} f(x) dx$ diverges also"
   ]
  },
  {
   "cell_type": "markdown",
   "id": "9467d555",
   "metadata": {},
   "source": [
    "## Singularities\n",
    "\n",
    "### ***Definition of singularity***\n",
    "\n",
    "### A ***singularity*** of a function $f(x)$ is a point $x=s$ such that the function $f(x)$ does not exist at $x=s$\n",
    "### There are three main ways that the function can fail to exist at a point:\n",
    "### - $\\displaystyle \\lim_{x\\to s^+} |f(x)|$ and/or $\\displaystyle \\lim_{x\\to s^-}|f(x)|$ tends to $\\infty$. This is the case of most interest in this section.\n",
    "### - $\\displaystyle\\lim_{x\\to s^{\\pm}} f(x)$ does not exist. In this case the function $f$ may oscillate, or have a jump discontinuity.\n",
    "### - $\\displaystyle\\lim_{x\\to s^{\\pm}} f(x)$ exists and is finite. In this case, the function $f$ has a removable discontinuity."
   ]
  },
  {
   "cell_type": "markdown",
   "id": "141ea3b0",
   "metadata": {},
   "source": [
    "## Improper integrals of the 2nd type\n",
    "### An ***improper integral of the 2nd type*** is an integral $\\displaystyle \\int_{a}^{b} f(x) dx$ such that the function $\\displaystyle f(x) $ has a singularity at $x=s$ for some $s$ with $a \\leq s \\leq b$.\n",
    "### For example, if $f(x)$ has a singularity at $x=b$,\n",
    "### then $\\displaystyle \\int_{a}^{b} f(x) dx = \\lim_{C \\to b^-} \\int_{a}^{C} f(x) dx $ \n",
    "### We say\n",
    "### - the integral ***converges*** if the limit exists and is finite.\n",
    "### - the integral ***diverges*** if the limit does not exist (which includes the case that the limit is $\\pm\\infty$.)"
   ]
  },
  {
   "cell_type": "markdown",
   "id": "aacdcdae",
   "metadata": {},
   "source": [
    "## Overview of improper integrals\n",
    "### The improper integral $\\displaystyle \\int_{a}^{\\infty} \\frac{dx}{x^p} \\left\\{ \\begin{array} {lcl} \\text{diverges} & \\text{if} & p \\leq 1 \\\\ \\text{converges to}\\, \\frac{1}{a^{p-1}(p-1)} & \\text{if} & p > 1 \\end{array} \\right. $.\n",
    "### The improper integral $\\displaystyle \\int_{0}^{a} \\frac{dx}{x^p} \\left\\{ \\begin{array} {lcl} \\text{diverges} & \\text{if} & p \\geq 1 \\\\ \\text{converges to}\\, \\frac{a^{p-1}}{(1-p)} & \\text{if} & p < 1 \\end{array} \\right. $.\n",
    "![Img](img/overview.png)\n",
    "\n",
    "### From left to right, we see the areas for $0\\leq x\\leq1$ and $1\\leq x<\\infty$ under the graphs of $\\displaystyle \\frac{1}{x} $, $\\displaystyle \\frac{1}{x^2} $, and $\\displaystyle \\frac{1}{\\sqrt{x}} $\n",
    "### The areas shaded in pink are infinite. The areas shaded in green are finite."
   ]
  },
  {
   "cell_type": "markdown",
   "id": "f8ba495d-9229-4ada-8f30-962a8b0cf535",
   "metadata": {},
   "source": [
    "## Comparison and limit comparison for improper integrals of type 2\n",
    "\n",
    "### ***Review of function comparison***\n",
    "\n",
    "### Suppose that $\\displaystyle f(x) $ and $g(x)$ both have a singularity at $x=s$.\n",
    "### Suppose $f(x) \\geq g(x) \\geq 0$ for all $a\\leq x\\leq b$ except at $x=s$.\n",
    "### If $\\displaystyle \\int_{a}^{b} f(x) dx$ converges, then $\\displaystyle \\int_{a}^{b} g(x) dx$ converges also.\n",
    "### If $\\displaystyle \\int_{a}^{b} g(x) dx $ diverges, then  $\\displaystyle \\int_{a}^{b} f(x) dx $ diverges also.\n",
    "\n",
    "### ***Notation for similarity near singularities***:\n",
    "### Suppose that $(x)$ and $g(x)$ have a singularity at $x=s$.\n",
    "### We say that $f(x)$ is ***similar*** to $g(x)$, and write $f(x) \\sim g(x)$ as $x \\to s^+$ or $x\\to s^-$ if\n",
    "## $$ \\frac{f(x)}{g(x)} \\longrightarrow 1 \\quad \\text{as} x \\longrightarrow s^{\\pm} $$\n",
    "### We say that $f(x)$ grows faster than $g(x)$ as $x$ tends towards $s$, and write $f(x) >> g(x)$ as $x \\to s^{\\pm}$, if\n",
    "## $$ \\left\\{ \\begin{array} {lcl} f(x) & \\longrightarrow & \\infty \\\\ g(x) & \\longrightarrow & \\infty \\\\ \\frac{g(x)}{f(x)} & \\longrightarrow & 0 \\end{array} \\right. \\quad \\text{as} \\, x \\longrightarrow s^{\\pm} $$\n",
    "\n",
    "### ***Limit comparison tests for improper integrals of 2nd type***\n",
    "### Suppose that $f(x)$ and $g(x)$ both have a singularity at $x=s$.\n",
    "### Suppose $f(x), g(x) \\geq 0$ for all $a \\leq x \\leq b$ except at $x=s$.\n",
    "### 1. If $f(x) \\sim g(x)$ as $x \\to s^{\\pm}$,\n",
    "### then the two integrals $\\displaystyle \\int_{a}^{b} f(x) dx $ and $\\displaystyle \\int_{a}^{b} g(x) dx $ either ***both converge*** or ***both diverge***.\n",
    "### 2. Suppose that $f(x)$ grows faster than $g(x)$ as $x$ tends towards $s^{\\pm}$. In other words, $f(x) >> g(x)$ as $x \\to s^{\\pm}$.\n",
    "### - If $\\displaystyle \\int_{a}^{b} f(x) dx $ converges, then $\\displaystyle \\int_{a}^{b} g(x) dx $ converges.\n",
    "### - If $\\displaystyle \\int_{a}^{b} g(x) dx $ diverges, then $\\displaystyle \\int_{a}^{b} f(x) dx $ diverges.\n",
    "### Note that this notation is exactly the same notation that we had before. The only difference is that instead of having $x \\to \\infty$, we have $x \\to s^+$ or $x \\to s^-$, where $s$ is a finite number that is a singularity of the function of interest.\n",
    "\n",
    "### ***Worked example***\n",
    "### We know that $\\displaystyle \\int_{0}^{1} \\frac{dx}{x}$ is divergent. Use limit comparison to show that $\\displaystyle \\int_{0}^{1} \\frac{dx}{x^p} $ is also divergent whenever $\\displaystyle \\frac{1}{x^p} $ grows faster than $\\displaystyle \\frac{1}{x} $ as $x$ approaches $0$\n",
    "\n",
    "### ***Solution***\n",
    "\n",
    "### We can use that $\\displaystyle \\int_{0}^{1} \\frac{dx}{x} $ is divergent and limit comparison to see that $\\displaystyle \\int_{0}^{1} \\frac{dx}{x^p} $ is also divergent whenever $\\displaystyle \\frac{1}{x^p} $ grows faster than $\\displaystyle \\frac{1}{x} $ as $x$ approaches $0$.\n",
    "### When is $\\displaystyle \\frac{1}{x^p} >> \\frac{1}{x} $ as $x \\to 0^+$?\n",
    "### To find out, we consider $\\displaystyle \\frac{\\frac{1}{x}}{\\frac{1}{x^p}} = x^{p-1} $. Note that\n",
    "## $$ x^{p-1} \\longrightarrow 0 \\quad \\text{as}\\, x \\longrightarrow 0 $$\n",
    "### if $p-1 > 0$, which implies that $p>1$.\n",
    "### Thus by applying limit comparison, we see that knowing that since $\\displaystyle \\int_{0}^{1} \\frac{dx}{x} $ diverges, $\\displaystyle \\int_{0}^{1} \\frac{dx}{x^p} $ must also diverge for $p \\geq 1$."
   ]
  },
  {
   "cell_type": "markdown",
   "id": "58393e23-9b66-4e94-878b-103745f34dc4",
   "metadata": {},
   "source": [
    "## The geometric series\n",
    "\n",
    "### A ***geometric series*** is an infinite sum\n",
    "## $$ 1+a+a^2+a^3+\\cdots=a^0+a^1+a^2+a^3+\\cdots \\quad (a\\,\\text{is any number}) $$\n",
    "### In other words, it is the limit\n",
    "## $$ \\lim_{N\\to \\infty}(1+a+a^2+a^3+\\cdots+a^N) \\quad (a\\,\\text{is any number}) $$\n",
    "### Notice that each term (except the first) is $a$ times the previous term. In other words, $a$ is the ratio of consecutive terms.\n",
    "### When $|a|<1$ the infinite sum is finite, and is given by\n",
    "## $$ (1+a+a^2+a^3+\\cdots) = \\frac{1}{1-a} \\quad(|a|<1) $$\n",
    "### We will derive this formula in the exercises below. "
   ]
  },
  {
   "cell_type": "markdown",
   "id": "55da7df6-1106-4e6c-9f4a-941b43388bc7",
   "metadata": {},
   "source": [
    "## Divergence of the geometric series\n",
    "### We are concerned with the different behaviors of the geometric series for different values of the ratio $a$.\n",
    "### If the geometric series tends to a finite number, as when $|a|<1$ we say it is ***convergent***. Otherwise, we say it is ***divergent***."
   ]
  },
  {
   "cell_type": "markdown",
   "id": "71692d73-f9ba-41a6-b6fe-c2c792de5d37",
   "metadata": {},
   "source": [
    "## The Divergence Test\n",
    "\n",
    "### One of the first and simplest tests on a series is the ***divergence test***:\n",
    "### If the sequence of numbers $a_1, a_2,a_3, \\ldots$ does not tend to $0$ that is, if $\\displaystyle \\lim_{n\\to \\infty} a_n \\neq 0 $ then the series $\\displaystyle \\sum_{n=1}^{\\infty} a_n $ diverges.\n",
    "### This is very intuitive. For an infinite sum to approach a finite number, the terms being added had better approach $0$."
   ]
  },
  {
   "cell_type": "markdown",
   "id": "4f689041-df10-4dd8-9bf8-f37b963d9b95",
   "metadata": {},
   "source": [
    "## Notation for series\n",
    "\n",
    "### A ***partial sum*** $S_N$ is the ***finite*** sum\n",
    "## $$ S_N = \\sum_{n=0}^{N} a_n $$\n",
    "### A ***series*** $S$ is the ***infinite sum*** $\\displaystyle \\sum_{n=0}^{\\infty} a_n $.\n",
    "### If the limit of the partial sum $\\displaystyle \\lim_{N\\to\\infty}S_N $ exists, then\n",
    "## $$ S = \\sum_{n=0}^{\\infty} a_n = \\lim_{N\\to\\infty} S_N $$\n",
    "### and we say that the series $S$ ***converges***.\n",
    "### If the limit does not exist, we say the series $S$ ***diverges***ß.\n",
    "\n",
    "### Note that a divergent series does not have to tend to $\\infty$ and we have already seen the different divergent behaviors of the geometric series."
   ]
  },
  {
   "cell_type": "markdown",
   "id": "19667cb4-a919-4c34-aeab-82baa1eef4b5",
   "metadata": {},
   "source": [
    "## Mathematical induction\n",
    "\n",
    "### Sometimes we can guess a formula for the partial sum $S_N$, but how do we know that our guess is correct for all $N$?\n",
    "### One way to show that the formula indeed works for all $N$ is by ***mathematical induction***.\n",
    "### ***Mathematical induction*** consists of two steps:\n",
    "### - ***Base case***:\n",
    "### $\\quad$ Show the formula is true for the $N=1$,\n",
    "### - ***Induction step***:\n",
    "### $\\quad$ Show that ***if*** the formula is true for $S_N$, then formula would also be true for $S_{N+1}$.\n",
    "\n",
    "### If both statements are true, then the formula works for all $S_N$.\n",
    "![Img](img/domino.png)\n",
    "\n",
    "### ***Figure 35***: All tiles in a domino fall with a push on the first tile if each tile is placed close enough to the one before.\n",
    "### Mathematical induction works like the domino. Showing a formula is true for $N$ is analogous to having the $N^{\\text{th}}$ tile fall. The base case is analogous to the push on the first tile. The induction step is analogous to making sure that if one tile falls, it pushes the next one down.\n",
    "\n",
    "### ***A partial sum formula***\n",
    "### Use mathematical induction to show the formula:\n",
    "## $$ S_N = 1 + 2 + \\cdots + N = \\frac{N(N+1)}{2} $$\n",
    "### is true for all $N$. \n",
    "### Follow the two steps of induction:\n",
    "### ***Base case***: Show $\\displaystyle S_N = \\frac{N(N+1)}{2} $ for $N=1$.\n",
    "### ***Induction step***: Assume $\\displaystyle S_N = \\frac{N(N+1)}{2}$ and compute $S_{N+1}$ using $S_{N+1} = S_N + (N+1)$.\n",
    "\n",
    "### ***Proof of formula***\n",
    "### We follow the two steps for induction:\n",
    "### ***Base case***: $N=1$.\n",
    "## $$ S_1 = 1 = \\frac{1(1+1)}{2} $$\n",
    "### ***Induction step***: Show that $\\displaystyle S_N = \\frac{N(N+1)}{2} \\implies s_{N+1} = \\frac{(N+1)((N+1)+1)}{2} $.\n",
    "## $$ \\begin{array} {rcl} S_{N+1} & = & S_N + (N+1) \\quad \\text{by definition} \\\\ \\, & = & \\frac{N(N+1)}{2} + (N+1) \\quad \\left( \\text{assume}\\, s_N = \\frac{N(N+1)}{2} \\right) \\\\ \\, & = & \\frac{N(N+1) + 2 (N+1)}{2} \\\\ \\, & = & \\frac{(N+1)(N+2)}{2} \\\\ \\, & = & \\frac{(N+1)((N+1) + 1)}{2} \\end{array} $$\n",
    "### Since both steps of the induction work, $\\displaystyle S_N = \\frac{N(N+1)}{2} $ for all $N$."
   ]
  },
  {
   "cell_type": "markdown",
   "id": "559ab008-ab3d-4ee4-8f70-27f282baafd4",
   "metadata": {},
   "source": [
    "## Integral comparison test\n",
    "### If $f(x) >0$ and is decreasing, then $\\displaystyle \\sum_{n=1}^{\\infty}$ and $\\displaystyle \\int_{1}^{\\infty}$ either ***both converge*** or ***both diverge***.\n",
    "### Moreoever, we have the following inequality\n",
    "## $$ \\sum_{n=1}^{\\infty} f(n) - \\int_{1}^{\\infty} f(x) dx < f(1) $$\n",
    "### This inequality is equivalent to the pair of inequalities shown in the figure below.\n",
    "![Img](img/inequalities.png)"
   ]
  },
  {
   "cell_type": "markdown",
   "id": "286a9397-ce41-4316-bed5-fd7df035101f",
   "metadata": {},
   "source": []
  }
 ],
 "metadata": {
  "kernelspec": {
   "display_name": "Python 3",
   "language": "python",
   "name": "python3"
  },
  "language_info": {
   "codemirror_mode": {
    "name": "ipython",
    "version": 3
   },
   "file_extension": ".py",
   "mimetype": "text/x-python",
   "name": "python",
   "nbconvert_exporter": "python",
   "pygments_lexer": "ipython3",
   "version": "3.8.8"
  }
 },
 "nbformat": 4,
 "nbformat_minor": 5
}
