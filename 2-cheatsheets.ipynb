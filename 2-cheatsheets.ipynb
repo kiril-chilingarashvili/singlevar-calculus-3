{
 "cells": [
  {
   "cell_type": "markdown",
   "id": "84574f0b-e142-4cbd-a019-1a0acd9030f3",
   "metadata": {},
   "source": [
    "# Unit 2: Understanding Infinity"
   ]
  },
  {
   "cell_type": "markdown",
   "id": "709a222f-7900-4e8c-b4fa-e79786b01378",
   "metadata": {},
   "source": [
    "## l'Hôpital's Rule\n",
    "\n",
    "### ***L'Hôpital's Rule Version 1: Indeterminate form $\\frac{0}{0}$***\n",
    "### If\n",
    "## $$ \\begin{array} {rcl} f(x) \\to 0 & \\text{as}\\, x\\to a \\\\ g(x) \\to 0 & \\text{as}\\, x\\to a \\end{array} $$\n",
    "### and the functions $f$ and $g$ are differentiable near the point $x=a$, then limit\n",
    "## $$ \\lim_{x\\to a} \\frac{f(x)}{g(x)} = \\lim_{x\\to a}\\frac{f'(x)}{g'(x)} $$\n",
    "### provided that the right hand limit exists or is $\\pm\\infty$.\n",
    "### ***L'Hôpital's Rule Version 2: Indeterminate form $\\frac{\\infty}{\\infty}$***\n",
    "### If\n",
    "## $$ \\begin{array} {rcl} f(x) \\to \\pm\\infty & \\text{as}\\, x\\to a \\\\ g(x) \\to \\pm\\infty & \\text{as}\\, x\\to a \\end{array} $$\n",
    "### and the functions $f$ and $g$ are differentiable near the point $x=a$, then limit\n",
    "## $$ \\lim_{x\\to a}\\frac{f(x)}{g(x)} = \\lim_{x\\to a} \\frac{f'(x)}{g'(x)} $$\n",
    "### provided that the right hand limit exists or is $\\pm\\infty$.\n",
    "\n",
    "### Note that\n",
    "### - We can replace $a$ with $a^+$ or $a^-$ and the results (versions 1 and 2) still hold.\n",
    "### - We can replace $a$ with $\\pm\\infty$, and the results (versions 1 and 2) still hold."
   ]
  },
  {
   "cell_type": "markdown",
   "id": "84a418d4-c942-44d9-bac7-cc9043e7a45a",
   "metadata": {},
   "source": [
    "## Review of L'Hospital's rule and growth rates\n",
    "\n",
    "### Here we recall l'Hôpital's rule in one case, $\\frac{\\infty}{\\infty}$.\n",
    "### If $\\left\\{ \\begin{array} {rcl} f(x) & \\to & \\infty \\\\ g(x) & \\to & \\infty \\\\ \\frac{f'}{g'} & \\to & L \\end{array} \\right.$ as  $x \\to a$,\n",
    "### then $\\frac{f}{g} \\to L$ as $x \\to a$.\n",
    "### (Recall that $a = \\pm \\infty$ and $L = \\pm \\infty$ is OK.)\n",
    "### ***Rate of Growth (as $x \\to \\infty$)***\n",
    "### Consider $f,g>0$. We say that $g$ grows faster than $f$ as $x$ tends towards $\\infty$, and write this as\n",
    "## $$ 0 < f(x) << g(x) $$\n",
    "### if $f,g \\to \\infty$ and $\\frac{f(x)}{g(x)} \\to 0$ as  $x \\to \\infty$.\n",
    "### ***Examples***\n",
    "\n",
    "### For $p > 0$\n",
    "## $$ \\ln x << x^p << e^x << e^{x^2} $$\n",
    "### Note that $e^{x^2} = e^(x^2)$, not $(e^x)^2 = e^{2x}$.\n",
    "\n",
    "### ***Rate of Decay (as $x \\to \\infty$)***\n",
    "### Consider $f,g > 0$. We say that $f$ decays faster than $g$ as $x$ tends towards $\\infty$, and write this as\n",
    "## $$ g(x) >> f(x) > 0 $$\n",
    "### if $f,g \\to 0$ and $\\frac{f(x)}{g(x)} \\to 0$ as $x \\to \\infty$.\n",
    "\n",
    "### ***Examples***\n",
    "### For $p>0$\n",
    "## $$ \\frac{1}{\\ln x} >> \\frac{1}{x^p} >> e^{-x} >> e^{-x^2} $$"
   ]
  },
  {
   "cell_type": "markdown",
   "id": "75725b1a-546c-42dc-b261-a75e6790ec0d",
   "metadata": {},
   "source": [
    "## Improper integrals\n",
    "\n",
    "### An ***improper integral*** is defined by \n",
    "## $$ \\int_{a}^{\\infty} f(x) dx = \\lim_{N \\to \\infty} \\int_{a}^{N} f(x) dx $$\n",
    "### This improper integral ***converges*** if the limit exists and is finite.\n",
    "### This improper integral ***diverges*** if the limit does not exist (this includes when the limit is $\\pm\\infty$)."
   ]
  },
  {
   "cell_type": "markdown",
   "id": "51cf72db-0dde-462e-bfac-1f2fc8c252af",
   "metadata": {},
   "source": [
    "## Powers of $x$\n",
    "### For $a>0$:\n",
    "## $$ \\int_{a}^{\\infty} \\frac{dx}{x^p} \\left\\{ \\begin{array} {lcl} \\text{diverges} & \\text{if} & p \\leq 1 \\\\ \\text{converges to}\\, \\frac{a^{-p+1}}{p-1} & \\text{if} & p > 1 \\end{array} \\right. $$"
   ]
  },
  {
   "cell_type": "markdown",
   "id": "eab5cdca-5dab-4f24-af24-870d518af7d1",
   "metadata": {},
   "source": []
  }
 ],
 "metadata": {
  "kernelspec": {
   "display_name": "Python 3",
   "language": "python",
   "name": "python3"
  },
  "language_info": {
   "codemirror_mode": {
    "name": "ipython",
    "version": 3
   },
   "file_extension": ".py",
   "mimetype": "text/x-python",
   "name": "python",
   "nbconvert_exporter": "python",
   "pygments_lexer": "ipython3",
   "version": "3.8.8"
  }
 },
 "nbformat": 4,
 "nbformat_minor": 5
}
