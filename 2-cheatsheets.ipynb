{
 "cells": [
  {
   "cell_type": "markdown",
   "id": "6aa736dd",
   "metadata": {},
   "source": [
    "# Unit 2: Understanding Infinity"
   ]
  },
  {
   "cell_type": "markdown",
   "id": "0df8088b",
   "metadata": {},
   "source": [
    "## l'Hôpital's Rule\n",
    "\n",
    "### ***L'Hôpital's Rule Version 1: Indeterminate form $\\frac{0}{0}$***\n",
    "### If\n",
    "## $$ \\begin{array} {rcl} f(x) \\to 0 & \\text{as}\\, x\\to a \\\\ g(x) \\to 0 & \\text{as}\\, x\\to a \\end{array} $$\n",
    "### and the functions $f$ and $g$ are differentiable near the point $x=a$, then limit\n",
    "## $$ \\lim_{x\\to a} \\frac{f(x)}{g(x)} = \\lim_{x\\to a}\\frac{f'(x)}{g'(x)} $$\n",
    "### provided that the right hand limit exists or is $\\pm\\infty$.\n",
    "### ***L'Hôpital's Rule Version 2: Indeterminate form $\\frac{\\infty}{\\infty}$***\n",
    "### If\n",
    "## $$ \\begin{array} {rcl} f(x) \\to \\pm\\infty & \\text{as}\\, x\\to a \\\\ g(x) \\to \\pm\\infty & \\text{as}\\, x\\to a \\end{array} $$\n",
    "### and the functions $f$ and $g$ are differentiable near the point $x=a$, then limit\n",
    "## $$ \\lim_{x\\to a}\\frac{f(x)}{g(x)} = \\lim_{x\\to a} \\frac{f'(x)}{g'(x)} $$\n",
    "### provided that the right hand limit exists or is $\\pm\\infty$.\n",
    "\n",
    "### Note that\n",
    "### - We can replace $a$ with $a^+$ or $a^-$ and the results (versions 1 and 2) still hold.\n",
    "### - We can replace $a$ with $\\pm\\infty$, and the results (versions 1 and 2) still hold."
   ]
  },
  {
   "cell_type": "markdown",
   "id": "66b2d179",
   "metadata": {},
   "source": [
    "## Review of L'Hospital's rule and growth rates\n",
    "\n",
    "### Here we recall l'Hôpital's rule in one case, $\\displaystyle\\frac{\\infty}{\\infty}$.\n",
    "### If $\\displaystyle\\left\\{ \\begin{array} {rcl} f(x) & \\to & \\infty \\\\ g(x) & \\to & \\infty \\\\ \\frac{f'}{g'} & \\to & L \\end{array} \\right.$ as  $x \\to a$,\n",
    "### then $\\frac{f}{g} \\to L$ as $x \\to a$.\n",
    "### (Recall that $a = \\pm \\infty$ and $L = \\pm \\infty$ is OK.)\n",
    "### ***Rate of Growth (as $x \\to \\infty$)***\n",
    "### Consider $f,g>0$. We say that $g$ grows faster than $f$ as $x$ tends towards $\\infty$, and write this as\n",
    "## $$ 0 < f(x) << g(x) $$\n",
    "### if $f,g \\to \\infty$ and $\\displaystyle\\frac{f(x)}{g(x)} \\to 0$ as  $x \\to \\infty$.\n",
    "### ***Examples***\n",
    "\n",
    "### For $p > 0$\n",
    "## $$\\displaystyle \\ln x << x^p << e^x << e^{x^2} $$\n",
    "### Note that $e^{x^2} = e^(x^2)$, not $(e^x)^2 = e^{2x}$.\n",
    "\n",
    "### ***Rate of Decay (as $x \\to \\infty$)***\n",
    "### Consider $f,g > 0$. We say that $f$ decays faster than $g$ as $x$ tends towards $\\infty$, and write this as\n",
    "## $$ g(x) >> f(x) > 0 $$\n",
    "### if $f,g \\to 0$ and $\\displaystyle\\frac{f(x)}{g(x)} \\to 0$ as $x \\to \\infty$.\n",
    "\n",
    "### ***Examples***\n",
    "### For $p>0$\n",
    "## $$\\displaystyle \\frac{1}{\\ln x} >> \\frac{1}{x^p} >> e^{-x} >> e^{-x^2} $$"
   ]
  },
  {
   "cell_type": "markdown",
   "id": "75725b1a-546c-42dc-b261-a75e6790ec0d",
   "metadata": {},
   "source": [
    "## Improper integrals\n",
    "\n",
    "### An ***improper integral*** is defined by \n",
    "## $$ \\int_{a}^{\\infty} f(x) dx = \\lim_{N \\to \\infty} \\int_{a}^{N} f(x) dx $$\n",
    "### This improper integral ***converges*** if the limit exists and is finite.\n",
    "### This improper integral ***diverges*** if the limit does not exist (this includes when the limit is $\\pm\\infty$)."
   ]
  },
  {
   "cell_type": "markdown",
   "id": "51cf72db-0dde-462e-bfac-1f2fc8c252af",
   "metadata": {},
   "source": [
    "## Powers of $x$\n",
    "### For $a>0$:\n",
    "## $$ \\int_{a}^{\\infty} \\frac{dx}{x^p} \\left\\{ \\begin{array} {lcl} \\text{diverges} & \\text{if} & p \\leq 1 \\\\ \\text{converges to}\\, \\frac{a^{-p+1}}{p-1} & \\text{if} & p > 1 \\end{array} \\right. $$"
   ]
  },
  {
   "cell_type": "markdown",
   "id": "eab5cdca-5dab-4f24-af24-870d518af7d1",
   "metadata": {},
   "source": [
    "## Limit comparison\n",
    "\n",
    "### ***Notation***\n",
    "### We say that $f(x) \\sim g(x)$ as $x \\to \\infty$ if  $\\displaystyle\\frac{f(x)}{g(x)} \\underset{x\\to \\infty}{\\longrightarrow} 1$.\n",
    "### In words, we say that $f(x)$ and $g(x)$ are ***similar*** as $x \\to \\infty$. (The idea is that $f(x)$ and g(x) have the same asymptotic behavior as $x$ tends to infinity.)\n",
    "\n",
    "### ***Limit comparison***\n",
    "### The idea behind limit comparison is that if the asymptotic behavior is the same, then the improper integrals have the same behavior.\n",
    "### Let $f(x), g(x) \\geq 0$.\n",
    "### If $f(x) \\sim g(x)$ as $x\\to \\infty$,\n",
    "### then the two integrals $\\displaystyle\\int_{a}^{\\infty} f(x) dx$ and $\\displaystyle\\int_{a}^{\\infty} g(x) dx$ (for large $a$) either ***both converge*** or ***both diverge***.\n",
    "### This also works in the case where one function decays faster than the other as $x$ tends towards infinity.\n",
    "### Suppose that $g(x)$ decays faster than $f(x)$ as $x \\to \\infty$. That is $f(x) >> g(x)$ as $x \\to \\infty$.\n",
    "### - If $\\displaystyle\\int_{a}^{\\infty} f(x) dx$ converges, then $\\displaystyle\\int_{a}^{\\infty} g(x) dx$ converges.\n",
    "### - If $\\displaystyle\\int_{a}^{\\infty} g(x) dx$ diverges, then $\\displaystyle\\int_{a}^{\\infty} f(x) dx$ diverges."
   ]
  },
  {
   "cell_type": "markdown",
   "id": "8ee08480-bab2-4135-b5b3-65f32637708f",
   "metadata": {},
   "source": [
    "## Decay rate and comparison of improper integrals\n",
    "\n",
    "### Suppose $f(x) \\geq g(x) > 0$ for $x \\geq a$.\n",
    "### If $\\displaystyle\\int_{a}^{\\infty} f(x) dx$ converges, then $\\displaystyle\\int_{a}^{\\infty} g(x) dx$ converges also.\n",
    "### If $\\displaystyle\\int_{a}^{\\infty} g(x) dx$ diverges, then $\\displaystyle\\int_{a}^{\\infty} f(x) dx$ diverges also"
   ]
  },
  {
   "cell_type": "markdown",
   "id": "e3d3698c-a95a-45c8-94a8-b0c62fa249c7",
   "metadata": {},
   "source": [
    "## Singularities\n",
    "\n",
    "### ***Definition of singularity***\n",
    "\n",
    "### A ***singularity*** of a function $f(x)$ is a point $x=s$ such that the function $f(x)$ does not exist at $x=s$\n",
    "### There are three main ways that the function can fail to exist at a point:\n",
    "### - $\\displaystyle \\lim_{x\\to s^+} |f(x)|$ and/or $\\displaystyle \\lim_{x\\to s^-}|f(x)|$ tends to $\\infty$. This is the case of most interest in this section.\n",
    "### - $\\displaystyle\\lim_{x\\to s^{\\pm}} f(x)$ does not exist. In this case the function $f$ may oscillate, or have a jump discontinuity.\n",
    "### - $\\displaystyle\\lim_{x\\to s^{\\pm}} f(x)$ exists and is finite. In this case, the function $f$ has a removable discontinuity."
   ]
  },
  {
   "cell_type": "markdown",
   "id": "4b09e474-e7e0-442b-b926-8362decb393b",
   "metadata": {},
   "source": [
    "## Improper integrals of the 2nd type\n",
    "### An ***improper integral of the 2nd type*** is an integral $\\displaystyle \\int_{a}^{b} f(x) dx$ such that the function $\\displaystyle f(x) $ has a singularity at $x=s$ for some $s$ with $a \\leq s \\leq b$.\n",
    "### For example, if $f(x)$ has a singularity at $x=b$,\n",
    "### then $\\displaystyle \\int_{a}^{b} f(x) dx = \\lim_{C \\to b^-} \\int_{a}^{C} f(x) dx $ \n",
    "### We say\n",
    "### - the integral ***converges*** if the limit exists and is finite.\n",
    "### - the integral ***diverges*** if the limit does not exist (which includes the case that the limit is $\\pm\\infty$.)"
   ]
  },
  {
   "cell_type": "markdown",
   "id": "14e73485-e4e1-402c-a85b-b39a5b858de7",
   "metadata": {},
   "source": [
    "## Overview of improper integrals\n",
    "### The improper integral $\\displaystyle \\int_{a}^{\\infty} \\frac{dx}{x^p} \\left\\{ \\begin{array} {lcl} \\text{diverges} & \\text{if} & p \\leq 1 \\\\ \\text{converges to}\\, \\frac{1}{a^{p-1}(p-1)} & \\text{if} & p > 1 \\end{array} \\right. $.\n",
    "### The improper integral $\\displaystyle \\int_{0}^{a} \\frac{dx}{x^p} \\left\\{ \\begin{array} {lcl} \\text{diverges} & \\text{if} & p \\geq 1 \\\\ \\text{converges to}\\, \\frac{a^{p-1}}{(1-p)} & \\text{if} & p < 1 \\end{array} \\right. $.\n",
    "\n",
    "See caption\n",
    "Figure 33: From left to right, we see the areas for  and \n",
    "under the graphs of , , and .\n",
    "The areas shaded in pink are infinite. The areas shaded in green are finite."
   ]
  }
 ],
 "metadata": {
  "kernelspec": {
   "display_name": "Python 3",
   "language": "python",
   "name": "python3"
  },
  "language_info": {
   "codemirror_mode": {
    "name": "ipython",
    "version": 3
   },
   "file_extension": ".py",
   "mimetype": "text/x-python",
   "name": "python",
   "nbconvert_exporter": "python",
   "pygments_lexer": "ipython3",
   "version": "3.6.15"
  }
 },
 "nbformat": 4,
 "nbformat_minor": 5
}
