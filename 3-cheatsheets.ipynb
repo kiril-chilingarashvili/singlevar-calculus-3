{
 "cells": [
  {
   "cell_type": "markdown",
   "id": "81ca51d2-47ce-46c9-9fd3-6bfa9a97595d",
   "metadata": {},
   "source": [
    "# Unit 3: Infinite Series"
   ]
  },
  {
   "cell_type": "markdown",
   "id": "016a5569-4716-4068-b9ee-cac71da7d4db",
   "metadata": {},
   "source": [
    "## Direct comparison test\n",
    "\n",
    "### Let $0<a_n<b_n$ for all $n\\geq N$\n",
    "### Then\n",
    "### - If $\\displaystyle \\sum_{n=N}^{\\infty} b_n$ converges, then $\\displaystyle \\sum_{n=N}^{\\infty} a_n$ also converges\n",
    "### - If $\\displaystyle \\sum_{n=N}^{\\infty} a_n$ diverges, then $\\displaystyle \\sum_{n=N}^{\\infty} b_n$ also diverges"
   ]
  },
  {
   "cell_type": "markdown",
   "id": "17094d8a-4af2-4253-8f95-a8e4305ac7f0",
   "metadata": {},
   "source": []
  }
 ],
 "metadata": {
  "kernelspec": {
   "display_name": "Python 3",
   "language": "python",
   "name": "python3"
  },
  "language_info": {
   "codemirror_mode": {
    "name": "ipython",
    "version": 3
   },
   "file_extension": ".py",
   "mimetype": "text/x-python",
   "name": "python",
   "nbconvert_exporter": "python",
   "pygments_lexer": "ipython3",
   "version": "3.8.8"
  }
 },
 "nbformat": 4,
 "nbformat_minor": 5
}
