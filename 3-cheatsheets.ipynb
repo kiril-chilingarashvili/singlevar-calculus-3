{
 "cells": [
  {
   "cell_type": "markdown",
   "id": "81ca51d2-47ce-46c9-9fd3-6bfa9a97595d",
   "metadata": {},
   "source": [
    "# Unit 3: Infinite Series"
   ]
  },
  {
   "cell_type": "markdown",
   "id": "016a5569-4716-4068-b9ee-cac71da7d4db",
   "metadata": {},
   "source": [
    "## Direct comparison test\n",
    "\n",
    "### Let $0<a_n<b_n$ for all $n\\geq N$\n",
    "### Then\n",
    "### - If $\\displaystyle \\sum_{n=N}^{\\infty} b_n$ converges, then $\\displaystyle \\sum_{n=N}^{\\infty} a_n$ also converges\n",
    "### - If $\\displaystyle \\sum_{n=N}^{\\infty} a_n$ diverges, then $\\displaystyle \\sum_{n=N}^{\\infty} b_n$ also diverges"
   ]
  },
  {
   "cell_type": "markdown",
   "id": "17094d8a-4af2-4253-8f95-a8e4305ac7f0",
   "metadata": {},
   "source": [
    "## Limit comparison\n",
    "\n",
    "### If\n",
    "### 1. $\\displaystyle \\frac{f(n)}{g(n)} \\to c$ where $c\\neq 0$ is finite,\n",
    "### 2. $g(n)>0$ for all $n>N$ for some $N>0$,\n",
    "### then $\\displaystyle \\sum_{n=1}^{\\infty} f(n)$ and $\\displaystyle \\sum_{n=1}^{\\infty} g(n)$ either ***both converge or both diverge***.\n",
    "### In other words, if $f(n)$ and $g(n)$ decay at the same rate as $n$ tends to $\\infty$ then the series $\\displaystyle \\sum_{n=1}^{\\infty} f(n)$ and $\\displaystyle \\sum_{n=1}^{\\infty} g(n)$ converge or diverge together.\n",
    "### This is analogous to limit comparison for improper integrals.\n",
    "### ***Note***: The condition $\\displaystyle \\frac{f(n)}{g(n)} \\to c\\neq 0$ as $n\\to \\infty$ is equivalent to\n",
    "## $$ f(n) \\sim c g(n), \\quad \\text{that is}, \\quad \\frac{f(n)}{c g(n)} \\to 1, \\, \\text{as}\\,n\\to\\infty $$\n"
   ]
  },
  {
   "cell_type": "markdown",
   "id": "640121de-ce17-42db-98b7-44d2b120ef0d",
   "metadata": {},
   "source": [
    "## More on limit comparison\n",
    "\n",
    "### We can also use limit comparison in the following way.\n",
    "### Suppose $f(n), g(n) > 0$ for all $n\\geq N$ for some large $N$.\n",
    "### If $\\displaystyle \\frac{f(n)}{g(n)} \\to 0$ as $n \\to \\infty$ that is, $f(n)$ decays faster than $g(n)$ then\n",
    "### - $\\displaystyle \\sum_{n=N}^{\\infty} g(n)$ converges implies $\\displaystyle \\sum_{n=N}^{\\infty} f(n)$ converges;\n",
    "### - $\\displaystyle \\sum_{n=N}^{\\infty} f(n)$ diverges implies $\\displaystyle \\sum_{n=N}^{\\infty} g(n)$ diverges."
   ]
  },
  {
   "cell_type": "markdown",
   "id": "62f3d598-9271-41ef-99db-25dc57736975",
   "metadata": {},
   "source": [
    "### ***Example***\n",
    "### Determine is the following series converges or diverges.\n",
    "## $$ \\sum_{n=10}^{\\infty} \\frac{\\cos^2(n^3+n^2+1)}{n\\sqrt{n-2}} $$\n",
    "\n",
    "### ***Solution***\n",
    "### We start with direct comparison:\n",
    "## $$ \\begin{array} {rcl} \\, &  & \\displaystyle \\frac{\\cos^2(n^3+n^2+1)}{n\\sqrt{n-2}} \\leq \\frac{1}{n\\sqrt{n-2}}\\, \\text{for all}\\,n \\\\ \\implies & & \\displaystyle \\sum_{n=10}^{\\infty} \\frac{\\cos^2(n^3+n^2+1)}{n\\sqrt{n-2}} \\leq \\sum_{n=10}^{\\infty} \\frac{1}{n\\sqrt{n-2}} \\end{array} $$\n",
    "### Next, we use limit comparison to show $\\displaystyle \\sum_{n=10}^{\\infty} \\frac{1}{n\\sqrt{n-2}}$ converges. Since\n",
    "## $$ \\frac{1/(n\\sqrt{n-2})}{1/n^{3/2}} \\to 1\\quad (\\text{as}\\,n\\to \\infty) $$\n",
    "### and $\\displaystyle \\sum_{n=10}^{\\infty} \\frac{1}{n^{3/2}}$ converges, $\\displaystyle \\sum_{n=10}^{\\infty} \\frac{1}{n\\sqrt{n-2}}$ also converges.\n",
    "\n",
    "### The two results together imply the given series converges."
   ]
  },
  {
   "cell_type": "markdown",
   "id": "2d786767-8e9f-43fe-891d-3d072f24754c",
   "metadata": {},
   "source": [
    "## Ratio test\n",
    "\n",
    "### The ***ratio test*** is another way to determine convergence of a series.\n",
    "### Consider $\\displaystyle \\sum_{n=1}^{\\infty} a_n$ where $a_n > 0$ for all $n>N$.\n",
    "### Define\n",
    "## $$ L = \\lim_{n\\to\\infty}\\frac{a_{n+1}}{a_n} $$\n",
    "### There are three cases:\n",
    "### - If $L<1$ then the series ***converges***;\n",
    "### - If $L>1$ then the series ***diverges***;\n",
    "### - If $L=1$ then there is ***no conclusion***, i.e. the series can diverge or converge.\n",
    "### Here, we focus on series $\\displaystyle \\sum_{n=1}^{\\infty} a_n$ where $a_n>0$ for all $n$ large. You will see shortly that you can use the ratio test on series whose tail is not always positive."
   ]
  },
  {
   "cell_type": "markdown",
   "id": "99cb5de5-2e24-4105-b58a-23c0bda0e3a8",
   "metadata": {},
   "source": [
    "## Root tests\n",
    "\n",
    "### The ***root test*** is yet another test to determine the convergence of a series.\n",
    "### Consider $\\displaystyle \\sum_{n=1}^{\\infty}$ where $a_n>0$ for all $n>N$.\n",
    "### Define\n",
    "## $$ L = \\lim_{n\\to\\infty} \\sqrt[n]{a_n} = \\lim_{n\\to\\infty} (a_n)^{\\frac{1}{n}} $$\n",
    "### The conclusions are the same as for the ratio test, that is,\n",
    "### - If $L<1$ then the series ***converges***;\n",
    "### - If $L>1$ then the series ***diverges***;\n",
    "### - If $L=1$ then there is ***no conclusion***, that is, the series can either diverge or converge.\n",
    "### The root test can also be used for series whose tail consist of negative terms. You will see this shortly.\n",
    "### We are not going to discuss the proof of the root test."
   ]
  },
  {
   "cell_type": "markdown",
   "id": "f6b6ef53-6558-439e-b2a7-3064b31b5809",
   "metadata": {},
   "source": [
    "## A more difficult limit\n",
    "\n",
    "### When using the root test, you may also encounter $\\displaystyle \\lim_{n\\to\\infty} (n!)^{\\frac{1}{n}}$ This limit is harder to evaluate. \n",
    "### In fact,\n",
    "## $$ \\lim_{n\\to\\infty} (n!)^{\\frac{1}{n}} = \\infty $$\n",
    "### ***Computation of the limit***\n",
    "### We will first compute $\\displaystyle \\ln$ of the limit and then exponentiate.\n",
    "## $$ \\begin{array} {rcl} \\displaystyle \\ln(\\lim_{n\\to\\infty} (n!)^{\\frac{1}{n}}) & = & \\displaystyle \\lim_{n\\to\\infty} \\frac{\\ln(n!)}{n} \\\\ \\, & = & \\displaystyle \\lim_{n\\to\\infty} \\frac{\\displaystyle \\sum_{k=2}^{n}\\ln(k)}{n} \\end{array} $$\n",
    "### To show the limit is infinite, we can compare $\\displaystyle \\frac{\\displaystyle \\sum_{k=2}^{n}\\ln(k)}{n}$ with a smaller function whose limit is infinite. Let us proceed.\n",
    "### The partial sum $\\displaystyle \\sum_{k=2}^{n}\\ln(k) $ is the right Riemann sum of $\\displaystyle \\int_{1}^{n}\\ln(x)dx$ with $\\Delta x = 1$ Since $\\ln(x)$ is an increasing function,\n",
    "## $$ \\sum_{k=2}^{n}\\ln(k) > \\int_{1}^{n}\\ln(x)dx $$\n",
    "### Now, we evaluate the integral using integration by parts:\n",
    "## $$ \\begin{array} {rcl} \\displaystyle \\int \\ln(x) dx & = & \\displaystyle x\\ln(x) - \\int \\frac{x}{x}dx \\quad (u=\\ln(x), dv=dx) \\\\ \\, & = & \\displaystyle x\\ln(x) - x \\\\ \\displaystyle \\implies \\int_{1}^{n}\\ln(x)dx & = & \\displaystyle n\\ln(n)-n+1 \\end{array}  $$\n",
    "### Therefore, we have a lower bound for $\\displaystyle \\sum_{k=1}^{n}\\ln(k)$:\n",
    "## $$ \\sum_{k=1}^{n}\\ln(k) > n\\ln(n)-n+1 $$\n",
    "### Let us get back to evaluating the limit.\n",
    "## $$ \\begin{array} {rcl} \\displaystyle \\ln(\\lim_{n\\to\\infty} (n!)^{\\frac{1}{n}}) & = & \\displaystyle \\lim_{n\\to\\infty} \\frac{\\displaystyle \\sum_{k=2}^{n} \\ln(k)}{n} \\\\ \\, & > & \\displaystyle \\lim_{n\\to\\infty} (\\ln(n)-1+\\frac{1}{n}) \\\\ \\, & = & \\infty \\end{array} $$\n",
    "### This implies\n",
    "## $$ \\lim_{n\\to\\infty} (n!)^{\\frac{1}{n}} = e^{\\infty} = \\infty $$"
   ]
  },
  {
   "cell_type": "markdown",
   "id": "a324bc7e-03f6-4a00-ba67-a67b35a9dda3",
   "metadata": {},
   "source": [
    "## Root test continued\n",
    "\n",
    "### ***Worked examples: root test***\n",
    "\n",
    "### ***Example 1***: the geometric series\n",
    "### The root test is another way to determine convergence of a geometric series. Consider\n",
    "## $$ \\sum_{n=1}^{\\infty} x^n\\quad\\text{where}\\,x>0 $$\n",
    "### To use the root test, we first compute $L$.\n",
    "## $$ \\begin{array} {rcl} L & = & \\displaystyle \\lim_{n\\to\\infty} \\sqrt[n]{x^n} \\\\ \\, & = & \\displaystyle \\lim_{n\\to\\infty} x \\\\ \\, & = & x \\quad (x>0) \\end{array} $$\n",
    "### Therefore, the root test tells us that $\\displaystyle \\sum_{n=1}^{\\infty} x^n \\quad (x>0) $ converges when $L=x<1$, and diverges when $L=x>1$. The root test does not give any information when $L=x=1$ even though we already know by the divergence test that $\\displaystyle \\sum_{n=1}^{\\infty} 1^n$ diverges.\n",
    "\n",
    "### ***Example 2***\n",
    "### We will use the root test to determine if the following series converges or diverges.\n",
    "## $$ \\sum_{n=1}^{\\infty} \\frac{n^2}{2^n} $$\n",
    "### First, we compute $\\displaystyle L = \\lim_{n\\to\\infty} (a_n)^{\\frac{1}{n}}$.\n",
    "## $$ \\begin{array} {rcl} L & = & \\displaystyle \\lim_{n\\to\\infty} (\\frac{n^2}{2^n})^{\\frac{1}{n}} \\\\ \\, & = & \\displaystyle \\lim_{n\\to\\infty} \\frac{(n^2)^{\\frac{1}{n}}}{2} \\\\ \\, & = & \\displaystyle \\frac{1}{2}\\lim_{n\\to\\infty} (n^2)^{\\frac{1}{n}} \\\\ \\, & = & \\displaystyle \\frac{1}{2} \\quad (\\lim_{n\\to\\infty} (n^2)^{\\frac{1}{n}}=1\\,\\text{from previous page}) \\end{array} $$\n",
    "### Therefore, since $L<1$ we conclude from the root test that the series $\\displaystyle \\sum_{n=1}^{\\infty} \\frac{n^2}{2^n}$ converges."
   ]
  },
  {
   "cell_type": "markdown",
   "id": "e3b473c5-bfb6-4c5c-8e2e-026e0010ef49",
   "metadata": {},
   "source": [
    "## Conditional Convergence\n",
    "\n",
    "### ***Absolute convergence versus conditional convergence***\n",
    "\n",
    "### So far, we have focused on series whose terms are positive (with the exception of the geometric series and the divergence test). For general series, including series with both positive and negative terms, there are two notions of convergence.\n",
    "\n",
    "### Consider the series\n",
    "## $$ S = \\sum_{n=1}^{\\infty} a_n \\quad (a_n\\, \\text{can be positive or negative}) $$\n",
    "### The series $S$ is ***absolutely convergent*** if $\\displaystyle \\sum_{n=1}^{\\infty} |a_n| $ converges.\n",
    "### The series $S$ is ***conditionally convergent*** if it converges but is ***not absolutely convergent***.\n",
    "### Strange to say, an absolute convergent series is ***not*** conditionally convergent.\n",
    "### For series with only positive terms, absolute convergence is the same as convergence.\n",
    "### In general, absolute convergence of a series implies convergence.\n",
    "\n",
    "### ***Absolute convergence implies convergence***\n",
    "### Convergence of a series means $\\displaystyle \\lim_{M\\to\\infty} \\left| S - \\sum_{n=1}^{M} a_n \\right| = 0 $ and the reason that absolute convergence of a series implies convergence is that\n",
    "## $$ \\left| \\sum_{n=M+1}^{N} a_n \\right| \\leq \\sum_{n=M+1}^{N} |a_n| \\to 0 \\quad \\text{as both}\\, M,N\\to\\infty $$\n",
    "\n",
    "### Because absolute convergence concerns the convergence of $\\displaystyle  \\sum_{n=1}^{\\infty} |a_n|$, we can apply all of the techniques we have learned to determine absolute convergence.\n",
    "\n",
    "### ***Example***\n",
    "\n",
    "### Consider the series\n",
    "## $$ \\sum_{n=1}^{\\infty} \\frac{(-1)^n}{n^p} $$\n",
    "### Note that\n",
    "## $$ \\sum_{n=1}^{\\infty} \\left| \\frac{(-1)^n}{n^p} \\right| = \\sum_{n=1}^{\\infty} \\frac{1}{n^p} $$\n",
    "### Since $\\displaystyle \\sum_{n=1}^{\\infty} \\frac{1}{n^p} $ converges for all $p>1$, $\\displaystyle \\sum_{n=1}^{\\infty} \\frac{(-1)^n}{n^p}$ is absolutely convergent for all $p>1$\n",
    "### Since $\\displaystyle \\sum_{n=1}^{\\infty} \\frac{1}{n^p} $ diverges for all $p\\leq 1$, $\\displaystyle \\sum_{n=1}^{\\infty} \\frac{(-1)^n}{n^p}$ is not absolutely convergent for all $p\\leq 1$. We will see shortly that $\\displaystyle \\sum_{n=1}^{\\infty} \\frac{(-1)^n}{n^p} $ is conditionally convergent for all $p\\leq 1$."
   ]
  },
  {
   "cell_type": "markdown",
   "id": "a7bac988-5c4b-4732-86c5-cf6f4bd8c077",
   "metadata": {},
   "source": [
    "## A note on the ratio test and root test\n",
    "\n",
    "### We can apply the ratio test and root test to series with negative terms by simply defining $L$ with absolute values.\n",
    "### For a series $\\displaystyle \\sum_{n=0}^{\\infty} a_n$, let\n",
    "## $$ L = \\left\\{ \\begin{array} {rcl} \\displaystyle \\lim_{n\\to\\infty} \\left| \\frac{a_{n+1}}{a_n} \\right| & & \\text{for the ratio test} \\\\ \\displaystyle \\lim_{n\\to\\infty} |a_n|^{\\frac{1}{n}} & & \\text{for the root test} \\end{array} \\right. $$\n",
    "### Then for both tests, the conclusions are the same as before except stated in terms of absolute convergence:\n",
    "### 1. If $L<1$ then the series ***absolutely converges***;\n",
    "### 2. If $L>1$ then the series ***diverges***;\n",
    "### 3. If $L=1$ then there is ***no conclusion***\n",
    "### The additional information here is that when $L>1$ not only does $\\displaystyle \\sum_{n=0}^{\\infty} |a_n|$ diverge, the series without absolute signs $\\displaystyle \\sum_{n=0}^{\\infty} a_n $ also diverges. This is because when $L>1$, $\\displaystyle \\lim_{n\\to\\infty} a_n \\neq 0$ so by the divergence test, $\\displaystyle \\sum_{n=1}^{\\infty} a_n $ diverges.\n",
    "### When we talk about Taylor series, we will use the ratio test (or the root test) to find what is known as the radius of convergence."
   ]
  },
  {
   "cell_type": "markdown",
   "id": "1c086631-6040-484d-ac5e-eaff0aadec9e",
   "metadata": {},
   "source": [
    "## Alternating series\n",
    "\n",
    "### An ***alternating series*** is a series whose terms alternate in signs. That is, an alternating series takes the form\n",
    "## $$ \\pm \\sum_{n=1}^{\\infty} (-1)^n c_n\\quad\\text{where}\\,c_n>0 $$\n",
    "\n",
    "### ***The alternating series test***\n",
    "\n",
    "### There is a simple test for convergence of an alternating series.\n",
    "### If for all $n$ large enough,\n",
    "### - $\\displaystyle \\lim_{n\\to\\infty} c_n = 0 $,\n",
    "### - $c_n$ decreases as $n$ increases,\n",
    "### then $\\displaystyle \\pm \\sum_{n=1}^{\\infty} (-1)^n c_n\\,(c_n>0)$ converges.\n",
    "\n",
    "### ***Example: a conditionally convergent series***\n",
    "\n",
    "### The alternating series\n",
    "## $$ \\sum_{n=1}^{\\infty} \\frac{(-1)^{n-1}}{n} = 1 -\\frac{1}{2}+\\frac{1}{3}-\\frac{1}{4}+\\cdots $$\n",
    "### is conditionally convergent (and not absolutely convergent).\n",
    "\n",
    "### To show this, first check for absolute convergence. The series is not absolutely convergent since\n",
    "## $$ \\sum_{n=1}^{\\infty} \\left| \\frac{(-1)^{n-1}}{n} \\right| = \\sum_{n=1}^{\\infty} \\frac{1}{n} $$\n",
    "### diverges (by integral comparison as discussed before).\n",
    "\n",
    "### Since the series is not absolutely convergent, we need to check for conditional convergence. The series satisfies both conditions of the alternating series test:\n",
    "### - $\\displaystyle \\lim_{n\\to\\infty} \\frac{1}{n} = 0 $,\n",
    "### - $\\displaystyle \\frac{1}{n}$ decreases as $n$ increases.\n",
    "\n",
    "### Hence, $\\displaystyle \\sum_{n=1}^{\\infty} \\frac{(-1)^{n-1}}{n}$ converges. Since the series converges but is not absolutely convergent, it is conditionally convergent. The same reasoning applies to $\\displaystyle \\sum_{n=1}^{\\infty} \\frac{(-1)^n}{n^p}$ for $0<p<1$."
   ]
  },
  {
   "cell_type": "markdown",
   "id": "ea662b79-9707-4d4b-9712-9460fd8414f1",
   "metadata": {},
   "source": [
    "## General power series\n",
    "\n",
    "### For simplicity, we will start with power series centered at the point $x=0$. In the following text, the term \"power series\" is short for such a power series.\n",
    "### A ***power series*** is a series involving ***only non-negative*** powers of a variable $x$:\n",
    "## $$ f(x) = a_0 + a_1 x + a_2 x^2 + a_3 x^3 + \\cdots = \\sum_{n=0}^{\\infty} a_n x^n $$\n",
    "### Note that the coefficients $a_i$ can be zero, and therefore a power series may have finitely many non-zero terms.\n",
    "### The ***radius of convergence*** $R$ of the power series $\\displaystyle \\sum_{n=0}^{\\infty} a_n x^n$, is a real number $0\\leq R < \\infty$ such that\n",
    "### - for $|x| < R$, the power series $\\displaystyle \\sum_{n=0}^{\\infty} a_n x^n $ converges (to a finite number);\n",
    "### - for $|x| > R$, the power series $\\displaystyle \\sum_{n=0}^{\\infty} a_n x^n $ diverges;\n",
    "### - for $|x| = R$, the power series may converge or diverge. But we will mostly ignore what happens at the end points of the interval of convergence.\n",
    "\n",
    "### ***Examples***:\n",
    "### - Geometric series: $\\displaystyle 1+x+x^2+x^3+\\cdots = \\sum_{n=0}^{\\infty} x^n$, radius of convergence is $1$.\n",
    "### - Polynomials $ \\displaystyle a_0 + a_1 x + a_2 x^2 + \\cdots + a_N x^N = \\sum_{n=0}^{N} a_n x^n$ are power series, because polynomials can be written as infinite series $\\displaystyle \\sum_{n=0}^{\\infty} a_n x^n$ where $a_m = 0$ for all $m>N$. The radius of convergence for any polynomial is $\\infty$. In other words, the sum converges for all $x$."
   ]
  },
  {
   "cell_type": "markdown",
   "id": "b5853154-469c-40df-af4c-ed431643687b",
   "metadata": {},
   "source": [
    "## Finding the radius of convergence\n",
    "\n",
    "### Given a power series $\\displaystyle \\sum_{n=0}^{\\infty} a_n x^n $, the ratio test implies that the power series converges if\n",
    "## $$ \\lim_{n\\to\\infty} \\left|\\frac{a_{n+1}x^{n+1}}{a_n x^n}\\right| = \\lim_{n\\to\\infty} \\left|\\frac{a_{n+1}}{a_n}\\right| |x| < 1 $$\n",
    "### There are 3 possibilities:\n",
    "### 1. There is a finite number $R$ such that\n",
    "### - $\\displaystyle |x|<R\\implies \\lim_{n\\to\\infty} \\left|\\frac{a_{n+1}}{a_n} \\right||x| < 1 $, ***and***\n",
    "### - $\\displaystyle |x| > R \\implies \\lim_{n\\to\\infty} \\left|\\frac{a_{n+1}}{a_n} \\right||x| > 1 $.\n",
    "###     We say the radius of convergence is $R$.\n",
    "### 2. For all $\\displaystyle x\\quad \\lim_{n\\to\\infty} \\left|\\frac{a_{n+1}}{a_n} \\right||x| < 1$. We say the radius of convergence is $\\infty$. (All $x$ satisfy $|x|<\\infty$)\n",
    "### 3. $\\displaystyle \\lim_{n\\to\\infty} \\left|\\frac{a_{n+1}}{a_n} \\right||x| > 1 $ for all $x\\neq 0$. We say the radius of convergence is $0$."
   ]
  },
  {
   "cell_type": "markdown",
   "id": "96481196-4b39-4638-bbec-5e8ef51a8531",
   "metadata": {},
   "source": [
    "### ***Remark: Alternative method using ratio test***\n",
    "\n",
    "### (Note that in the method that follows, the $n+1$ term is in the denominator and the $n$ term is in the numerator, which is the opposite of the ratio test.)\n",
    "\n",
    "### Given a power series $\\displaystyle \\sum_{n=0}^{\\infty} a_n x^n $,\n",
    "\n",
    "### if $\\displaystyle \\lim_{n\\to\\infty} \\left| \\frac{a_n}{a_{n+1}} \\right| = R $ (where $R$ exists or is $\\infty$),\n",
    "### then the radius of convergence for the power series is $R$.\n",
    "\n",
    "### ***Example***\n",
    "### Consider $\\displaystyle \\sum_{n=0}^{\\infty} 2^n x^n$, then $\\displaystyle \\lim_{n\\to\\infty} \\left| \\frac{2^n}{2^{n+1}} \\right| = \\frac{1}{2} \\implies R = \\frac{1}{2}$\n",
    "\n",
    "### ***Root test for radius of convergence***\n",
    "\n",
    "### Given a power series $\\displaystyle \\sum_{n=0}^{\\infty} a_n x^n$, the root test implies that the power series converges if\n",
    "## $$ \\lim_{n\\to\\infty} \\sqrt[n]{|a_n x^n|} = \\lim_{n\\to\\infty} \\sqrt[n]{|a_n|} |x| < 1 $$\n",
    "### There are 3 possibilities:\n",
    "\n",
    "### 1. There is a finite number $R$ such that\n",
    "### - $\\displaystyle |x| < R \\implies \\lim_{n\\to\\infty} \\sqrt[n]{|a_n|}|x| < 1 $,\n",
    "### - $\\displaystyle |x| > R \\implies \\lim_{n\\to\\infty} \\sqrt[n]{|a_n|}|x| > 1 $.\n",
    "###    We say the radius of convergence is $R$.\n",
    "### 2. For all $\\displaystyle x\\quad \\lim_{n\\to\\infty} \\sqrt[n]{|a_n|}|x| < 1 $. We say the radius of convergence is $\\infty$. (All $x$ satisfy $|x|<\\infty$)\n",
    "### 3. $\\displaystyle \\lim_{n\\to\\infty} \\sqrt[n]{|a_n|}|x| > 1 $ for all $x\\neq 0$. We say the radius of convergence is $0$.\n",
    "\n",
    "### ***Example***\n",
    "### Consider $\\displaystyle \\sum_{n=0}^{\\infty} 2^n x^n $ then $\\displaystyle \\lim_{n\\to\\infty} \\sqrt[n]{|2^nx^n|} = 2|x| < 1 $ when $\\displaystyle |x|<\\frac{1}{2} $. This implies that the radius of convergence is $\\displaystyle R = \\frac{1}{2} $"
   ]
  },
  {
   "cell_type": "markdown",
   "id": "127cb410-c11a-4d27-82de-6d5fea646b9e",
   "metadata": {},
   "source": [
    "## Properties of power series\n",
    "\n",
    "### Add, subtract, multiply, divide, differentiate, and integrate convergent power series as one does for polynomials. We will discuss multiplication and division at a later time.\n",
    "\n",
    "### Consider the power series $\\displaystyle \\sum_{n=0}^{\\infty} a_n x^n $, which converges for $|x|<A$.\n",
    "### - The derivative $\\displaystyle \\frac{d}{dx} \\sum_{n=0}^{\\infty} a_n x^n = \\sum_{n=1}^{\\infty} n a_n x^{n-1} $ also converges for $|x|<A$.\n",
    "### - The integral $\\displaystyle \\int \\left( \\sum_{n=0}^{\\infty} a_n x^n\\right) dx= c+\\sum_{n=0}^{\\infty} a_n \\frac{x^{n+1}}{n+1}$ also converges for $|x|<A$. Note that $c$ is the constant of integration.\n",
    "### Consider another power series $\\displaystyle \\sum_{n=0}^{\\infty} b_n x^n $, which converges for $|x|<B$.\n",
    "### - If $A\\neq B$, then $\\displaystyle \\left( \\sum_{n=0}^{\\infty} a_n x^n\\right) \\pm \\left(\\sum_{n=0}^{\\infty} b_n x^n\\right) = \\sum_{n=0}^{\\infty} (a_n \\pm b_n) x^n $ converges for $|x|<\\operatorname{min}(A,B)$.\n",
    "### - If $A=B$, then $\\displaystyle \\left(\\sum_{n=0}^{\\infty} a_n x^n\\right)\\pm\\left(\\sum_{n=0}^{\\infty} b_n x^n\\right) = \\sum_{n=0}^{\\infty} (a_n\\pm b_n) x^n $ has a radius of convergence which is at least $A$, but it could have a larger radius of convergence."
   ]
  },
  {
   "cell_type": "markdown",
   "id": "bfda744a-c325-4f3a-ac48-3ac75fea4ee0",
   "metadata": {},
   "source": [
    "## Taylor's formula\n",
    "\n",
    "### Recall that $n! = n(n-1)(n-2)\\cdots(3)(2)(1)$ for all integers $n\\geq 1$.\n",
    "### We define $0!=1$. This is a very valuable convention that simplifies many formulas.\n",
    "### The ***Taylor series*** of a function $f(x)$ is the following power series:\n",
    "## $$ \\frac{f(0)}{0!}x^0 + \\frac{f'(0)}{1!}x^1 + \\frac{f''(0)}{2!}x^2 + \\frac{f^{(3)}(0)}{3!}x^3 + \\cdots = \\sum_{n=0}^{\\infty} \\frac{f^{(n)}(0)}{n!}x^n $$\n",
    "### Just like any other power series, the Taylor series converges when $|x|<R$ where $R$ is the radius of convergence.\n",
    "\n",
    "### In this course, we only consider functions $f(x)$ that equal their Taylor series within the radius of convergence. This is a large class of functions that include many of the functions we regularly use. For all such functions:\n",
    "## $$ f(x) = \\sum_{n=0}^{\\infty} \\frac{f^{(n)}(0)}{n!}x^n \\quad (\\text{for}\\,|x|<R) $$\n",
    "\n",
    "### ***Important examples***\n",
    "## - $\\displaystyle e^x = \\sum_{n=0}^{\\infty} \\frac{x^n}{n!} = 1 + x + \\frac{x^2}{2!} + \\frac{x^3}{3!} + \\cdots $\n",
    "## - $\\displaystyle \\sin x = \\sum_{n=0}^{\\infty} \\frac{(-1)^n x^{2n+1}}{(2n+1)!} = x - \\frac{x^3}{3!} + \\frac{x^5}{5!} - \\frac{x^7}{7!} + \\cdots $\n",
    "## - $\\displaystyle \\cos x = \\sum_{n=0}^{\\infty} \\frac{(-1)^n x^{2n}}{(2n)!} = 1 - \\frac{x^2}{2!} + \\frac{x^4}{4!} - \\frac{x^6}{6!} + \\cdots $\n",
    "### We will use Taylor's formula to derive the series for $\\sin x$ and $\\cos x$ on the next page.\n",
    "### Notice that the factorial appears in the denominator of all terms in all three power series above.\n",
    "### Using the Taylor series of $e^x$ we find a formula for the number $e$ as the rapidly converging series:\n",
    "## $$ e = \\sum_{n=0}^{\\infty} \\frac{1}{n!} $$"
   ]
  },
  {
   "cell_type": "markdown",
   "id": "82f08ac5-cc7f-46d9-9327-f1e8313b9e37",
   "metadata": {},
   "source": []
  }
 ],
 "metadata": {
  "kernelspec": {
   "display_name": "Python 3",
   "language": "python",
   "name": "python3"
  },
  "language_info": {
   "codemirror_mode": {
    "name": "ipython",
    "version": 3
   },
   "file_extension": ".py",
   "mimetype": "text/x-python",
   "name": "python",
   "nbconvert_exporter": "python",
   "pygments_lexer": "ipython3",
   "version": "3.8.8"
  }
 },
 "nbformat": 4,
 "nbformat_minor": 5
}
