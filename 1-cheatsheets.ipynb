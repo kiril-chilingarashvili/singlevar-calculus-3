{
 "cells": [
  {
   "cell_type": "markdown",
   "id": "46b40140",
   "metadata": {},
   "source": [
    "# Unit 1: Coordinate Systems"
   ]
  },
  {
   "cell_type": "markdown",
   "id": "6f3c857b",
   "metadata": {},
   "source": [
    "## Parametric curves\n",
    "\n",
    "### A parametric curve (in the plane) is a curve defined by two equations\n",
    "## $$ \\begin{array} {rcl} x & = & x(t) \\\\ y & = & y(t) \\end{array} $$\n",
    "### where $t$ is called a ***parameter***. \n",
    "### For each real number $t$, the point $(x(t), y(t))$ is a point on the curve"
   ]
  },
  {
   "cell_type": "markdown",
   "id": "3a408b2a",
   "metadata": {},
   "source": [
    "### Mathlet: [link](https://mathlets1801.surge.sh/parametricCurves.html)"
   ]
  },
  {
   "cell_type": "markdown",
   "id": "f9c8e463",
   "metadata": {},
   "source": [
    "## Tangent lines of parametric curves\n",
    "### The slope of a parametric curve $x=x(t), y=y(t)$, is\n",
    "## $$ \\frac{dy}{dx} = \\frac{\\frac{dy}{dt}}{\\frac{dx}{dt}} $$\n",
    "### In particular, to find the slope of the tangent line to the curve at $t=t_0$, we compute $\\frac{y'(t_0)}{x'(t_0)}$."
   ]
  },
  {
   "cell_type": "markdown",
   "id": "6d674d6e",
   "metadata": {},
   "source": [
    "## Arc length of parametric curves\n",
    "\n",
    "### Consider a particle moving along a trajectory. The motion is described by the parametric curve\n",
    "## $$ \\begin{array} {rcl} x & = & x(t) \\\\ y & = & y(t) \\end{array} $$\n",
    "### The speed of the particle is given by\n",
    "## $$ \\frac{ds}{dt} = \\sqrt{(x'(t))^2+(y'(t))^2} $$\n",
    "### The differential arc length element is given by\n",
    "## $$ ds = \\sqrt{(x'(t))^2+(y'(t))^2} dt $$\n",
    "### Consider the arc length, or distance travelled by the particle from time $t_0$ to time $t_1$. The letter $s$ is customarily used to denote arc length. You should think of $s=s(t)$ as a function of time, where $s(t)$ is the distance travelled by the particle since some starting time. If $s_0=s(t_0)$ and $s_1=s(t_1)$, then the distance traveled by the particle from time $t_0$ to $t_1$ can be calculated by\n",
    "## $$ s_1-s_0=\\int_{s_0}^{s_1} ds = \\int_{t_0}^{t_1} \\sqrt{(x'(t))^2+(y'(t))^2} dt $$"
   ]
  },
  {
   "cell_type": "markdown",
   "id": "1c6643d5",
   "metadata": {},
   "source": [
    "## Position and speed along a parametric curve\n",
    "### We have been thinking of a parametric curve as the description of a particle's position over time. So what is the velocity? And what about the acceleration?\n",
    "### - The derivative $x'(t)$ is the velocity in the direction of the $x$-axis.\n",
    "### - The derivative $y'(t)$ is the velocity in the direction of the $y$-axis.\n",
    "### - The speed along the curve is given by $\\frac{ds}{dt} = \\sqrt{(x'(t))^2+(y'(t))^2}$ \n",
    "### - The notion of velocity along the curve requires considering $x'$ and $y'$ together in what is known as a vector. Both velocity and acceleration are vectors and you will see them in multivariable calculus."
   ]
  },
  {
   "cell_type": "markdown",
   "id": "6ece2785-702e-466f-81f1-345f44463f8e",
   "metadata": {},
   "source": [
    "## Review of surface area\n",
    "\n",
    "### Consider the surface area created by rotating the curve $y=f(x)$ about the $x$-axis.\n",
    "![Img](img/rotated.png)\n",
    "### If you imagine cutting the band, the area is approximately equal to the area of the rectangle whose base is the circumference $2\\pi y$, and whose height is $\\Delta s$. The differential surface area element is $dA = (2\\pi y)ds$\n",
    "### The surface area is computed by the integral:\n",
    "## $$ A = \\int_{s_0}^{s_1}(2\\pi y)ds $$\n",
    "![Img](img/rotated-2.png)\n",
    "### Note that if we take a curve and rotate about the $y$-axis, the differential surface area element is $dA = (2\\pi x)ds$ and the surface area is computed by the integral\n",
    "## $$ \\int_{s_0}^{s_1} (2\\pi x)ds $$\n",
    "### Now we will find the surface area for surfaces created by rotating a curve defined by a parametric equation."
   ]
  },
  {
   "cell_type": "markdown",
   "id": "88176ee7-9893-4cc4-ae69-492bbfa236bd",
   "metadata": {},
   "source": [
    "## Surface area\n",
    "### Consider the parametric curve\n",
    "## $$ \\begin{array} {rcl} x & = & x(t) \\\\ y & = & y(t) \\end{array} $$\n",
    "### Consider the surface formed by rotating the curve about the $y$-axis.\n",
    "### The differential surface area element is given by\n",
    "## $$ \\begin{array} {rcl} dA & = & 2\\pi x ds \\\\ \\, & = & 2\\pi x(t) \\sqrt{(x'(t))^2+(y'(t))^2}dt \\end{array} $$\n",
    "### The surface area from time $t_0$ to time $t_1$ is given by the integral:\n",
    "## $$ \\text{Surface area of parametric curve} = \\int_{t_0}^{t_1} 2\\pi x(t)\\sqrt{(x'(t))^2+(y'(t))^2}dt $$\n",
    "### Consider the surface formed by rotating the curve about the $x$-axis.\n",
    "### The differential surface area element is given by\n",
    "## $$ \\begin{array} {rcl} dA & = & 2\\pi y ds \\\\ \\, & = & 2\\pi y(t) \\sqrt{(x'(t))^2+(y'(t))^2}dt \\end{array} $$\n",
    "### The surface area from time $t_0$ to time $t_1$ is given by the integral:\n",
    "## $$ \\text{Surface area of parametric curve} = \\int_{t_0}^{t_1} 2\\pi y(t)\\sqrt{(x'(t))^2+(y'(t))^2}dt $$\n",
    "### The following mathlet is the same as the one earlier in this section. It may be useful for the following problem.\n",
    "### [Mathlet](https://mathlets1801.surge.sh/parametricCurves.html) (https://mathlets1801.surge.sh/parametricCurves.html)"
   ]
  },
  {
   "cell_type": "markdown",
   "id": "8ff12ec7-6d0c-4554-ad25-6c797f21bf79",
   "metadata": {},
   "source": [
    "## Area under parametric curves\n",
    "### The (signed) area under a curve $y=f(x)$ between $x=a$ and $x=b$ is given by $\\int_{a}^{b} f(x) dx$.\n",
    "### Suppose that this curve is parameterized by the equations\n",
    "## $$ \\begin{array} {rcl} x & = & x(t) \\\\ y & = & y(t) \\end{array} $$\n",
    "### Moreover suppose that $x(t_0) = a$ and $x(t_1) = b$. Then the (signed) area under the curve is also equal to\n",
    "## $$ \\int_{a}^{b} f(x)dx = \\int_{t_0}^{t_1} f(x(t))x'(t) dt $$\n",
    "### by change of variables (or by substitution and applying the chain rule). \n",
    "### But note that\n",
    "## $$ \\begin{array} {rcl} y & = & f(x) \\\\ y & = & y(t) \\\\ \\implies y(t) & = & f(x(t)) \\end{array} $$\n",
    "### hence\n",
    "## $$ \\int_{a}^{b} f(x) dx = \\int_{t_0}^{t_1} y(t) x'(t) dt $$\n",
    "### This formula for the (signed) area under a parametric curve holds in general!\n",
    "\n",
    "### ***General result for parametric curves***\n",
    "### Given a parametric curve:\n",
    "## $$ \\begin{array} {rcl} x & = & x(t) \\\\ y & = & y(t) \\end{array} $$\n",
    "### The signed area of the region bounded between the curve and the $x$-axis for $t_0<t<t_1$ is given by the integral\n",
    "## $$ \\text{Signed Area} = \\int_{t_0}^{t_1} y(t)x'(t)dt $$"
   ]
  },
  {
   "cell_type": "markdown",
   "id": "a45cfef3-a88e-45c5-8c08-1df4bafd4d9a",
   "metadata": {},
   "source": [
    "### ***Areas enclosed by parametric curves***\n",
    "### Note that we can extend this idea of finding area under curves to finding the area enclosed by parametric curves in the case that the graph forms a closed region.\n",
    "\n",
    "### However, you must be very careful when thinking about signs, and in identifying the limits of integration for such regions! Take care."
   ]
  },
  {
   "cell_type": "markdown",
   "id": "3029ed38-ba24-40a7-a742-fd53d3998036",
   "metadata": {},
   "source": [
    "### ***Wheel mathlet***\n",
    "### The cycloid is depicted in the following mathlet. \n",
    "### [Mathlet](https://mathlets1801.surge.sh/wheel.html) (https://mathlets1801.surge.sh/wheel.html)"
   ]
  },
  {
   "cell_type": "markdown",
   "id": "e3787486-896a-4987-b691-1f0b18b77c75",
   "metadata": {},
   "source": [
    "### ***Parametric curves and their graphs***\n",
    "### Observe that the same curve can be parameterized in different ways.\n",
    "\n",
    "### Note that the graph of a parametric curve gives you less information than what is incorporated by the parametric equations themselves. Because the parameter $t$ is hidden, you don't see where you are at each time, or how fast the curve is traced out. In the previous problems, you saw this by comparing the speeds of two curves whose trajectories followed the same circle."
   ]
  },
  {
   "cell_type": "markdown",
   "id": "c3cf48f0-3c4d-4739-a29e-00d05e8c2ff6",
   "metadata": {},
   "source": []
  }
 ],
 "metadata": {
  "kernelspec": {
   "display_name": "Python 3",
   "language": "python",
   "name": "python3"
  },
  "language_info": {
   "codemirror_mode": {
    "name": "ipython",
    "version": 3
   },
   "file_extension": ".py",
   "mimetype": "text/x-python",
   "name": "python",
   "nbconvert_exporter": "python",
   "pygments_lexer": "ipython3",
   "version": "3.8.8"
  }
 },
 "nbformat": 4,
 "nbformat_minor": 5
}
