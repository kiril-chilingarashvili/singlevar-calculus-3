{
 "cells": [
  {
   "cell_type": "markdown",
   "id": "5c5804fd-541b-463a-b934-4f7ad947a36c",
   "metadata": {},
   "source": [
    "## Unit 1: Coordinate Systems"
   ]
  },
  {
   "cell_type": "markdown",
   "id": "6960f24b-da8e-4917-8766-fe2d7c72e4c5",
   "metadata": {},
   "source": []
  }
 ],
 "metadata": {
  "kernelspec": {
   "display_name": "Python 3",
   "language": "python",
   "name": "python3"
  },
  "language_info": {
   "codemirror_mode": {
    "name": "ipython",
    "version": 3
   },
   "file_extension": ".py",
   "mimetype": "text/x-python",
   "name": "python",
   "nbconvert_exporter": "python",
   "pygments_lexer": "ipython3",
   "version": "3.8.8"
  }
 },
 "nbformat": 4,
 "nbformat_minor": 5
}
