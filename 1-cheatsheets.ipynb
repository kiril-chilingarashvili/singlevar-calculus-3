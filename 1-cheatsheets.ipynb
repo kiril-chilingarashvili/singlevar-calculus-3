{
 "cells": [
  {
   "cell_type": "markdown",
   "id": "46b40140",
   "metadata": {},
   "source": [
    "# Unit 1: Coordinate Systems"
   ]
  },
  {
   "cell_type": "markdown",
   "id": "6f3c857b",
   "metadata": {},
   "source": [
    "## Parametric curves\n",
    "\n",
    "### A parametric curve (in the plane) is a curve defined by two equations\n",
    "## $$ \\begin{array} {rcl} x & = & x(t) \\\\ y & = & y(t) \\end{array} $$\n",
    "### where $t$ is called a ***parameter***. \n",
    "### For each real number $t$, the point $(x(t), y(t))$ is a point on the curve"
   ]
  },
  {
   "cell_type": "markdown",
   "id": "3a408b2a",
   "metadata": {},
   "source": [
    "### Mathlet: [link](https://mathlets1801.surge.sh/parametricCurves.html)"
   ]
  },
  {
   "cell_type": "markdown",
   "id": "f9c8e463",
   "metadata": {},
   "source": [
    "## Tangent lines of parametric curves\n",
    "### The slope of a parametric curve $x=x(t), y=y(t)$, is\n",
    "## $$ \\frac{dy}{dx} = \\frac{\\frac{dy}{dt}}{\\frac{dx}{dt}} $$\n",
    "### In particular, to find the slope of the tangent line to the curve at $t=t_0$, we compute $\\frac{y'(t_0)}{x'(t_0)}$."
   ]
  },
  {
   "cell_type": "markdown",
   "id": "6d674d6e",
   "metadata": {},
   "source": [
    "## Arc length of parametric curves\n",
    "\n",
    "### Consider a particle moving along a trajectory. The motion is described by the parametric curve\n",
    "## $$ \\begin{array} {rcl} x & = & x(t) \\\\ y & = & y(t) \\end{array} $$\n",
    "### The speed of the particle is given by\n",
    "## $$ \\frac{ds}{dt} = \\sqrt{(x'(t))^2+(y'(t))^2} $$\n",
    "### The differential arc length element is given by\n",
    "## $$ ds = \\sqrt{(x'(t))^2+(y'(t))^2} dt $$\n",
    "### Consider the arc length, or distance travelled by the particle from time $t_0$ to time $t_1$. The letter $s$ is customarily used to denote arc length. You should think of $s=s(t)$ as a function of time, where $s(t)$ is the distance travelled by the particle since some starting time. If $s_0=s(t_0)$ and $s_1=s(t_1)$, then the distance traveled by the particle from time $t_0$ to $t_1$ can be calculated by\n",
    "## $$ s_1-s_0=\\int_{s_0}^{s_1} ds = \\int_{t_0}^{t_1} \\sqrt{(x'(t))^2+(y'(t))^2} dt $$"
   ]
  },
  {
   "cell_type": "markdown",
   "id": "1c6643d5",
   "metadata": {},
   "source": [
    "## Position and speed along a parametric curve\n",
    "### We have been thinking of a parametric curve as the description of a particle's position over time. So what is the velocity? And what about the acceleration?\n",
    "### - The derivative $x'(t)$ is the velocity in the direction of the $x$-axis.\n",
    "### - The derivative $y'(t)$ is the velocity in the direction of the $y$-axis.\n",
    "### - The speed along the curve is given by $\\frac{ds}{dt} = \\sqrt{(x'(t))^2+(y'(t))^2}$ \n",
    "### - The notion of velocity along the curve requires considering $x'$ and $y'$ together in what is known as a vector. Both velocity and acceleration are vectors and you will see them in multivariable calculus."
   ]
  },
  {
   "cell_type": "code",
   "execution_count": null,
   "id": "1448f3f6",
   "metadata": {},
   "outputs": [],
   "source": []
  }
 ],
 "metadata": {
  "kernelspec": {
   "display_name": "Python 3",
   "language": "python",
   "name": "python3"
  },
  "language_info": {
   "codemirror_mode": {
    "name": "ipython",
    "version": 3
   },
   "file_extension": ".py",
   "mimetype": "text/x-python",
   "name": "python",
   "nbconvert_exporter": "python",
   "pygments_lexer": "ipython3",
   "version": "3.6.15"
  }
 },
 "nbformat": 4,
 "nbformat_minor": 5
}
